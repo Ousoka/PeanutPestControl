{
 "cells": [
  {
   "cell_type": "code",
   "execution_count": 1,
   "id": "f3bf9a26",
   "metadata": {},
   "outputs": [
    {
     "name": "stdout",
     "output_type": "stream",
     "text": [
      "Processing folder: .dist\n"
     ]
    },
    {
     "name": "stderr",
     "output_type": "stream",
     "text": [
      "Resizing in .dist: 0it [00:00, ?it/s]\n"
     ]
    },
    {
     "name": "stdout",
     "output_type": "stream",
     "text": [
      "Processing folder: .qodo\n"
     ]
    },
    {
     "name": "stderr",
     "output_type": "stream",
     "text": [
      "Resizing in .qodo: 100%|██████████| 1/1 [00:00<?, ?it/s]\n"
     ]
    },
    {
     "name": "stdout",
     "output_type": "stream",
     "text": [
      "Processing folder: aphids\n"
     ]
    },
    {
     "name": "stderr",
     "output_type": "stream",
     "text": [
      "Resizing in aphids: 100%|██████████| 500/500 [00:10<00:00, 47.60it/s] \n"
     ]
    },
    {
     "name": "stdout",
     "output_type": "stream",
     "text": [
      "Processing folder: aphis craccivora\n"
     ]
    },
    {
     "name": "stderr",
     "output_type": "stream",
     "text": [
      "Resizing in aphis craccivora: 100%|██████████| 440/440 [00:08<00:00, 50.73it/s]\n"
     ]
    },
    {
     "name": "stdout",
     "output_type": "stream",
     "text": [
      "Processing folder: beet armyworm\n"
     ]
    },
    {
     "name": "stderr",
     "output_type": "stream",
     "text": [
      "Resizing in beet armyworm: 100%|██████████| 500/500 [00:05<00:00, 88.90it/s] \n"
     ]
    },
    {
     "name": "stdout",
     "output_type": "stream",
     "text": [
      "Processing folder: catterpillar\n"
     ]
    },
    {
     "name": "stderr",
     "output_type": "stream",
     "text": [
      "Resizing in catterpillar: 100%|██████████| 500/500 [00:05<00:00, 89.76it/s] \n"
     ]
    },
    {
     "name": "stdout",
     "output_type": "stream",
     "text": [
      "Processing folder: Empoasca fabae\n"
     ]
    },
    {
     "name": "stderr",
     "output_type": "stream",
     "text": [
      "Resizing in Empoasca fabae: 100%|██████████| 500/500 [00:11<00:00, 43.52it/s]\n"
     ]
    },
    {
     "name": "stdout",
     "output_type": "stream",
     "text": [
      "Processing folder: grasshopper\n"
     ]
    },
    {
     "name": "stderr",
     "output_type": "stream",
     "text": [
      "Resizing in grasshopper: 100%|██████████| 499/499 [00:05<00:00, 84.11it/s] \n"
     ]
    },
    {
     "name": "stdout",
     "output_type": "stream",
     "text": [
      "Processing folder: Helicoverpa armigera\n"
     ]
    },
    {
     "name": "stderr",
     "output_type": "stream",
     "text": [
      "Resizing in Helicoverpa armigera: 100%|██████████| 495/495 [00:15<00:00, 31.36it/s]\n"
     ]
    },
    {
     "name": "stdout",
     "output_type": "stream",
     "text": [
      "Processing folder: mites\n"
     ]
    },
    {
     "name": "stderr",
     "output_type": "stream",
     "text": [
      "Resizing in mites: 100%|██████████| 498/498 [00:20<00:00, 24.21it/s]\n"
     ]
    },
    {
     "name": "stdout",
     "output_type": "stream",
     "text": [
      "Processing folder: Schistocerca gregaria\n"
     ]
    },
    {
     "name": "stderr",
     "output_type": "stream",
     "text": [
      "Resizing in Schistocerca gregaria: 100%|██████████| 500/500 [00:06<00:00, 72.19it/s]\n"
     ]
    },
    {
     "name": "stdout",
     "output_type": "stream",
     "text": [
      "Processing folder: Spodoptera exigua\n"
     ]
    },
    {
     "name": "stderr",
     "output_type": "stream",
     "text": [
      "Resizing in Spodoptera exigua: 100%|██████████| 500/500 [00:06<00:00, 76.71it/s] \n"
     ]
    },
    {
     "name": "stdout",
     "output_type": "stream",
     "text": [
      "Processing folder: Spodoptera litura\n"
     ]
    },
    {
     "name": "stderr",
     "output_type": "stream",
     "text": [
      "Resizing in Spodoptera litura: 100%|██████████| 500/500 [00:09<00:00, 55.51it/s]\n"
     ]
    },
    {
     "name": "stdout",
     "output_type": "stream",
     "text": [
      "Processing folder: Tetranychus urticae\n"
     ]
    },
    {
     "name": "stderr",
     "output_type": "stream",
     "text": [
      "Resizing in Tetranychus urticae: 100%|██████████| 476/476 [00:14<00:00, 32.52it/s]\n"
     ]
    },
    {
     "name": "stdout",
     "output_type": "stream",
     "text": [
      "Processing folder: Thrips tabaci\n"
     ]
    },
    {
     "name": "stderr",
     "output_type": "stream",
     "text": [
      "Resizing in Thrips tabaci: 100%|██████████| 500/500 [00:08<00:00, 60.48it/s]\n"
     ]
    },
    {
     "name": "stdout",
     "output_type": "stream",
     "text": [
      "Processing folder: weevil\n"
     ]
    },
    {
     "name": "stderr",
     "output_type": "stream",
     "text": [
      "Resizing in weevil: 100%|██████████| 500/500 [00:04<00:00, 115.96it/s]"
     ]
    },
    {
     "name": "stdout",
     "output_type": "stream",
     "text": [
      "\n",
      "✅ All images resized and centered successfully while keeping color!\n"
     ]
    },
    {
     "name": "stderr",
     "output_type": "stream",
     "text": [
      "\n"
     ]
    }
   ],
   "source": [
    "import os\n",
    "import cv2\n",
    "import numpy as np\n",
    "from PIL import Image\n",
    "from tqdm import tqdm\n",
    "\n",
    "# Define the root directory containing pest images\n",
    "root_dir = \"./\"\n",
    "\n",
    "# Target size\n",
    "IMG_SIZE = (224, 224)\n",
    "\n",
    "def smart_crop_and_resize(image_path, save_path):\n",
    "    \"\"\"Smartly crops around the pest and resizes the image to (224, 224) while keeping color.\"\"\"\n",
    "    try:\n",
    "        # Read the image in color\n",
    "        img = cv2.imread(image_path, cv2.IMREAD_COLOR)\n",
    "\n",
    "        if img is None:\n",
    "            print(f\"❌ Skipping {image_path} (could not read)\")\n",
    "            return\n",
    "        \n",
    "        # Convert to grayscale only for processing (not saving)\n",
    "        gray = cv2.cvtColor(img, cv2.COLOR_BGR2GRAY)\n",
    "\n",
    "        # Apply thresholding to detect the main object\n",
    "        _, thresh = cv2.threshold(gray, 30, 255, cv2.THRESH_BINARY_INV + cv2.THRESH_OTSU)\n",
    "\n",
    "        # Find contours\n",
    "        contours, _ = cv2.findContours(thresh, cv2.RETR_EXTERNAL, cv2.CHAIN_APPROX_SIMPLE)\n",
    "\n",
    "        if contours:\n",
    "            # Get the largest contour (assuming it's the pest)\n",
    "            c = max(contours, key=cv2.contourArea)\n",
    "            x, y, w, h = cv2.boundingRect(c)\n",
    "            \n",
    "            # Crop to detected region (expand slightly for better framing)\n",
    "            padding = 10\n",
    "            x = max(0, x - padding)\n",
    "            y = max(0, y - padding)\n",
    "            w = min(img.shape[1] - x, w + 2 * padding)\n",
    "            h = min(img.shape[0] - y, h + 2 * padding)\n",
    "            \n",
    "            cropped_img = img[y:y+h, x:x+w]  # Keep original color\n",
    "        else:\n",
    "            cropped_img = img  # If no object found, use the full image\n",
    "\n",
    "        # Convert to RGB format for EfficientNetV2 compatibility\n",
    "        pil_img = Image.fromarray(cv2.cvtColor(cropped_img, cv2.COLOR_BGR2RGB))\n",
    "\n",
    "        # Resize using LANCZOS for high quality\n",
    "        resized_img = pil_img.resize(IMG_SIZE, Image.LANCZOS)\n",
    "\n",
    "        # Save the processed image\n",
    "        resized_img.save(save_path, \"JPEG\", quality=95)\n",
    "\n",
    "    except Exception as e:\n",
    "        print(f\"❌ Error processing {image_path}: {e}\")\n",
    "\n",
    "# Process all images in dataset\n",
    "for folder in os.listdir(root_dir):\n",
    "    folder_path = os.path.join(root_dir, folder)\n",
    "    \n",
    "    if os.path.isdir(folder_path):  # Ensure it's a folder\n",
    "        print(f\"Processing folder: {folder}\")\n",
    "        \n",
    "        for filename in tqdm(os.listdir(folder_path), desc=f\"Resizing in {folder}\"):\n",
    "            if filename.lower().endswith(\".jpg\"):\n",
    "                img_path = os.path.join(folder_path, filename)\n",
    "                smart_crop_and_resize(img_path, img_path)  # Overwrite the image\n",
    "\n",
    "print(\"\\n✅ All images resized and centered successfully while keeping color!\")\n"
   ]
  },
  {
   "cell_type": "code",
   "execution_count": 2,
   "id": "c275c5d7",
   "metadata": {},
   "outputs": [
    {
     "name": "stdout",
     "output_type": "stream",
     "text": [
      "Checking duplicates in: .dist\n"
     ]
    },
    {
     "name": "stderr",
     "output_type": "stream",
     "text": [
      "Scanning .dist: 0it [00:00, ?it/s]\n"
     ]
    },
    {
     "name": "stdout",
     "output_type": "stream",
     "text": [
      "Checking duplicates in: .qodo\n"
     ]
    },
    {
     "name": "stderr",
     "output_type": "stream",
     "text": [
      "Scanning .qodo: 100%|██████████| 1/1 [00:00<?, ?it/s]\n"
     ]
    },
    {
     "name": "stdout",
     "output_type": "stream",
     "text": [
      "Checking duplicates in: aphids\n"
     ]
    },
    {
     "name": "stderr",
     "output_type": "stream",
     "text": [
      "Scanning aphids:  26%|██▌       | 130/500 [00:00<00:00, 1298.39it/s]"
     ]
    },
    {
     "name": "stdout",
     "output_type": "stream",
     "text": [
      "🗑️ Removing duplicate: ./aphids\\362438593 (18).jpg\n",
      "🗑️ Removing duplicate: ./aphids\\362438593 (9).jpg\n",
      "🗑️ Removing duplicate: ./aphids\\Image_1.jpg\n",
      "🗑️ Removing duplicate: ./aphids\\Image_10.jpg\n",
      "🗑️ Removing duplicate: ./aphids\\Image_100.jpg\n",
      "🗑️ Removing duplicate: ./aphids\\Image_101.jpg\n",
      "🗑️ Removing duplicate: ./aphids\\Image_102.jpg\n",
      "🗑️ Removing duplicate: ./aphids\\Image_108.jpg\n",
      "🗑️ Removing duplicate: ./aphids\\Image_110 (2).jpg\n",
      "🗑️ Removing duplicate: ./aphids\\Image_110.jpg\n",
      "🗑️ Removing duplicate: ./aphids\\Image_112 (2).jpg\n",
      "🗑️ Removing duplicate: ./aphids\\Image_112.jpg\n",
      "🗑️ Removing duplicate: ./aphids\\Image_114 (2).jpg\n",
      "🗑️ Removing duplicate: ./aphids\\Image_114.jpg\n",
      "🗑️ Removing duplicate: ./aphids\\Image_115 (2).jpg\n",
      "🗑️ Removing duplicate: ./aphids\\Image_115.jpg\n",
      "🗑️ Removing duplicate: ./aphids\\Image_120 (2).jpg\n",
      "🗑️ Removing duplicate: ./aphids\\Image_120.jpg\n",
      "🗑️ Removing duplicate: ./aphids\\Image_15.jpg\n",
      "🗑️ Removing duplicate: ./aphids\\Image_16.jpg\n",
      "🗑️ Removing duplicate: ./aphids\\Image_17.jpg\n",
      "🗑️ Removing duplicate: ./aphids\\Image_23.jpg\n",
      "🗑️ Removing duplicate: ./aphids\\Image_25.jpg\n"
     ]
    },
    {
     "name": "stderr",
     "output_type": "stream",
     "text": [
      "Scanning aphids:  55%|█████▌    | 276/500 [00:00<00:00, 1390.79it/s]"
     ]
    },
    {
     "name": "stdout",
     "output_type": "stream",
     "text": [
      "🗑️ Removing duplicate: ./aphids\\Image_33.jpg\n",
      "🗑️ Removing duplicate: ./aphids\\Image_35 (1).jpg\n",
      "🗑️ Removing duplicate: ./aphids\\Image_35.jpg\n",
      "🗑️ Removing duplicate: ./aphids\\Image_4.jpg\n"
     ]
    },
    {
     "name": "stderr",
     "output_type": "stream",
     "text": [
      "Scanning aphids:  83%|████████▎ | 416/500 [00:00<00:00, 1272.95it/s]"
     ]
    },
    {
     "name": "stdout",
     "output_type": "stream",
     "text": [
      "🗑️ Removing duplicate: ./aphids\\Image_53.jpg\n",
      "🗑️ Removing duplicate: ./aphids\\Image_55 (1).jpg\n",
      "🗑️ Removing duplicate: ./aphids\\Image_56.jpg\n",
      "🗑️ Removing duplicate: ./aphids\\Image_58 (2).jpg\n",
      "🗑️ Removing duplicate: ./aphids\\Image_58.jpg\n",
      "🗑️ Removing duplicate: ./aphids\\Image_61.jpg\n",
      "🗑️ Removing duplicate: ./aphids\\Image_69 (2).jpg\n",
      "🗑️ Removing duplicate: ./aphids\\Image_69.jpg\n",
      "🗑️ Removing duplicate: ./aphids\\Image_7.jpg\n",
      "🗑️ Removing duplicate: ./aphids\\Image_75.jpg\n",
      "🗑️ Removing duplicate: ./aphids\\Image_77.jpg\n",
      "🗑️ Removing duplicate: ./aphids\\Image_82.jpg\n",
      "🗑️ Removing duplicate: ./aphids\\Image_86 (1).jpg\n",
      "🗑️ Removing duplicate: ./aphids\\Image_86.jpg\n",
      "🗑️ Removing duplicate: ./aphids\\Image_88.jpg\n",
      "🗑️ Removing duplicate: ./aphids\\Image_89 (2).jpg\n",
      "🗑️ Removing duplicate: ./aphids\\Image_89.jpg\n",
      "🗑️ Removing duplicate: ./aphids\\Image_93.jpg\n",
      "🗑️ Removing duplicate: ./aphids\\Image_95.jpg\n",
      "🗑️ Removing duplicate: ./aphids\\Image_97.jpg\n",
      "🗑️ Removing duplicate: ./aphids\\Image_99 (2).jpg\n",
      "🗑️ Removing duplicate: ./aphids\\Image_99.jpg\n",
      "🗑️ Removing duplicate: ./aphids\\jpg_0.jpg\n",
      "🗑️ Removing duplicate: ./aphids\\jpg_2.jpg\n",
      "🗑️ Removing duplicate: ./aphids\\jpg_23.jpg\n",
      "🗑️ Removing duplicate: ./aphids\\jpg_24.jpg\n",
      "🗑️ Removing duplicate: ./aphids\\jpg_27.jpg\n",
      "🗑️ Removing duplicate: ./aphids\\jpg_29.jpg\n",
      "🗑️ Removing duplicate: ./aphids\\jpg_30 (1).jpg\n",
      "🗑️ Removing duplicate: ./aphids\\jpg_30.jpg\n",
      "🗑️ Removing duplicate: ./aphids\\jpg_33 (1).jpg\n",
      "🗑️ Removing duplicate: ./aphids\\jpg_33.jpg\n",
      "🗑️ Removing duplicate: ./aphids\\jpg_35 (1).jpg\n",
      "🗑️ Removing duplicate: ./aphids\\jpg_35.jpg\n",
      "🗑️ Removing duplicate: ./aphids\\jpg_36.jpg\n",
      "🗑️ Removing duplicate: ./aphids\\jpg_37.jpg\n",
      "🗑️ Removing duplicate: ./aphids\\jpg_39.jpg\n",
      "🗑️ Removing duplicate: ./aphids\\jpg_4 - Copy (1).jpg\n",
      "🗑️ Removing duplicate: ./aphids\\jpg_4 - Copy.jpg\n",
      "🗑️ Removing duplicate: ./aphids\\jpg_4.jpg\n",
      "🗑️ Removing duplicate: ./aphids\\jpg_40 (1).jpg\n",
      "🗑️ Removing duplicate: ./aphids\\jpg_40.jpg\n",
      "🗑️ Removing duplicate: ./aphids\\jpg_42 (1).jpg\n",
      "🗑️ Removing duplicate: ./aphids\\jpg_42.jpg\n",
      "🗑️ Removing duplicate: ./aphids\\jpg_44.jpg\n",
      "🗑️ Removing duplicate: ./aphids\\jpg_45.jpg\n",
      "🗑️ Removing duplicate: ./aphids\\jpg_46 (1).jpg\n",
      "🗑️ Removing duplicate: ./aphids\\jpg_46 - Copy (1).jpg\n",
      "🗑️ Removing duplicate: ./aphids\\jpg_46 - Copy.jpg\n",
      "🗑️ Removing duplicate: ./aphids\\jpg_46.jpg\n",
      "🗑️ Removing duplicate: ./aphids\\jpg_47.jpg\n"
     ]
    },
    {
     "name": "stderr",
     "output_type": "stream",
     "text": [
      "Scanning aphids: 100%|██████████| 500/500 [00:00<00:00, 1116.80it/s]\n"
     ]
    },
    {
     "name": "stdout",
     "output_type": "stream",
     "text": [
      "🗑️ Removing duplicate: ./aphids\\jpg_5 - Copy (1).jpg\n",
      "🗑️ Removing duplicate: ./aphids\\jpg_5 - Copy.jpg\n",
      "🗑️ Removing duplicate: ./aphids\\jpg_5.jpg\n",
      "🗑️ Removing duplicate: ./aphids\\jpg_50.jpg\n",
      "🗑️ Removing duplicate: ./aphids\\jpg_51.jpg\n",
      "🗑️ Removing duplicate: ./aphids\\jpg_52.jpg\n",
      "🗑️ Removing duplicate: ./aphids\\jpg_54 (1).jpg\n",
      "🗑️ Removing duplicate: ./aphids\\jpg_54 - Copy (1).jpg\n",
      "🗑️ Removing duplicate: ./aphids\\jpg_54 - Copy.jpg\n",
      "🗑️ Removing duplicate: ./aphids\\jpg_54.jpg\n",
      "🗑️ Removing duplicate: ./aphids\\jpg_55 - Copy.jpg\n",
      "🗑️ Removing duplicate: ./aphids\\jpg_55.jpg\n",
      "🗑️ Removing duplicate: ./aphids\\jpg_56.jpg\n",
      "🗑️ Removing duplicate: ./aphids\\jpg_6 - Copy.jpg\n",
      "🗑️ Removing duplicate: ./aphids\\jpg_6.jpg\n",
      "🗑️ Removing duplicate: ./aphids\\jpg_64.jpg\n",
      "🗑️ Removing duplicate: ./aphids\\jpg_7 - Copy.jpg\n",
      "🗑️ Removing duplicate: ./aphids\\jpg_72 - Copy.jpg\n",
      "🗑️ Removing duplicate: ./aphids\\jpg_74 - Copy (2).jpg\n",
      "🗑️ Removing duplicate: ./aphids\\jpg_79 - Copy.jpg\n",
      "🗑️ Removing duplicate: ./aphids\\jpg_9 - Copy (1).jpg\n",
      "Checking duplicates in: aphis craccivora\n"
     ]
    },
    {
     "name": "stderr",
     "output_type": "stream",
     "text": [
      "Scanning aphis craccivora: 100%|██████████| 440/440 [00:00<00:00, 961.50it/s] \n"
     ]
    },
    {
     "name": "stdout",
     "output_type": "stream",
     "text": [
      "🗑️ Removing duplicate: ./aphis craccivora\\Image_101.jpg\n",
      "🗑️ Removing duplicate: ./aphis craccivora\\Image_108.jpg\n",
      "🗑️ Removing duplicate: ./aphis craccivora\\Image_110.jpg\n",
      "🗑️ Removing duplicate: ./aphis craccivora\\Image_22.jpg\n",
      "🗑️ Removing duplicate: ./aphis craccivora\\Image_53.jpg\n",
      "🗑️ Removing duplicate: ./aphis craccivora\\Image_69.jpg\n",
      "🗑️ Removing duplicate: ./aphis craccivora\\Image_82.jpg\n",
      "🗑️ Removing duplicate: ./aphis craccivora\\Image_93.jpg\n",
      "Checking duplicates in: beet armyworm\n"
     ]
    },
    {
     "name": "stderr",
     "output_type": "stream",
     "text": [
      "Scanning beet armyworm: 100%|██████████| 500/500 [00:00<00:00, 1084.34it/s]\n"
     ]
    },
    {
     "name": "stdout",
     "output_type": "stream",
     "text": [
      "Checking duplicates in: catterpillar\n"
     ]
    },
    {
     "name": "stderr",
     "output_type": "stream",
     "text": [
      "Scanning catterpillar: 100%|██████████| 500/500 [00:00<00:00, 1005.12it/s]\n"
     ]
    },
    {
     "name": "stdout",
     "output_type": "stream",
     "text": [
      "Checking duplicates in: Empoasca fabae\n"
     ]
    },
    {
     "name": "stderr",
     "output_type": "stream",
     "text": [
      "Scanning Empoasca fabae: 100%|██████████| 500/500 [00:00<00:00, 1116.82it/s]\n"
     ]
    },
    {
     "name": "stdout",
     "output_type": "stream",
     "text": [
      "Checking duplicates in: grasshopper\n"
     ]
    },
    {
     "name": "stderr",
     "output_type": "stream",
     "text": [
      "Scanning grasshopper: 100%|██████████| 499/499 [00:00<00:00, 1195.41it/s]\n"
     ]
    },
    {
     "name": "stdout",
     "output_type": "stream",
     "text": [
      "Checking duplicates in: Helicoverpa armigera\n"
     ]
    },
    {
     "name": "stderr",
     "output_type": "stream",
     "text": [
      "Scanning Helicoverpa armigera:  21%|██▏       | 106/495 [00:00<00:00, 1056.55it/s]"
     ]
    },
    {
     "name": "stdout",
     "output_type": "stream",
     "text": [
      "🗑️ Removing duplicate: ./Helicoverpa armigera\\000034.jpg\n",
      "🗑️ Removing duplicate: ./Helicoverpa armigera\\000035.jpg\n",
      "🗑️ Removing duplicate: ./Helicoverpa armigera\\000067.jpg\n",
      "🗑️ Removing duplicate: ./Helicoverpa armigera\\000083.jpg\n",
      "🗑️ Removing duplicate: ./Helicoverpa armigera\\000096.jpg\n",
      "🗑️ Removing duplicate: ./Helicoverpa armigera\\000098.jpg\n",
      "🗑️ Removing duplicate: ./Helicoverpa armigera\\000134.jpg\n",
      "🗑️ Removing duplicate: ./Helicoverpa armigera\\000141.jpg\n",
      "🗑️ Removing duplicate: ./Helicoverpa armigera\\000146.jpg\n",
      "🗑️ Removing duplicate: ./Helicoverpa armigera\\000148.jpg\n",
      "🗑️ Removing duplicate: ./Helicoverpa armigera\\000152.jpg\n",
      "🗑️ Removing duplicate: ./Helicoverpa armigera\\000153.jpg\n",
      "🗑️ Removing duplicate: ./Helicoverpa armigera\\000158.jpg\n",
      "🗑️ Removing duplicate: ./Helicoverpa armigera\\000164.jpg\n",
      "🗑️ Removing duplicate: ./Helicoverpa armigera\\000166.jpg\n",
      "🗑️ Removing duplicate: ./Helicoverpa armigera\\000167.jpg\n",
      "🗑️ Removing duplicate: ./Helicoverpa armigera\\000170.jpg\n",
      "🗑️ Removing duplicate: ./Helicoverpa armigera\\000177.jpg\n",
      "🗑️ Removing duplicate: ./Helicoverpa armigera\\000195.jpg\n",
      "🗑️ Removing duplicate: ./Helicoverpa armigera\\000198.jpg\n",
      "🗑️ Removing duplicate: ./Helicoverpa armigera\\000205.jpg\n",
      "🗑️ Removing duplicate: ./Helicoverpa armigera\\000206.jpg\n",
      "🗑️ Removing duplicate: ./Helicoverpa armigera\\000209.jpg\n",
      "🗑️ Removing duplicate: ./Helicoverpa armigera\\000210.jpg\n",
      "🗑️ Removing duplicate: ./Helicoverpa armigera\\000214.jpg\n",
      "🗑️ Removing duplicate: ./Helicoverpa armigera\\000217.jpg\n",
      "🗑️ Removing duplicate: ./Helicoverpa armigera\\000222.jpg\n",
      "🗑️ Removing duplicate: ./Helicoverpa armigera\\000223.jpg\n",
      "🗑️ Removing duplicate: ./Helicoverpa armigera\\000225.jpg\n",
      "🗑️ Removing duplicate: ./Helicoverpa armigera\\000230.jpg\n",
      "🗑️ Removing duplicate: ./Helicoverpa armigera\\000231.jpg\n",
      "🗑️ Removing duplicate: ./Helicoverpa armigera\\000232.jpg\n",
      "🗑️ Removing duplicate: ./Helicoverpa armigera\\000239.jpg\n",
      "🗑️ Removing duplicate: ./Helicoverpa armigera\\000240.jpg\n",
      "🗑️ Removing duplicate: ./Helicoverpa armigera\\000244.jpg\n",
      "🗑️ Removing duplicate: ./Helicoverpa armigera\\000248.jpg\n"
     ]
    },
    {
     "name": "stderr",
     "output_type": "stream",
     "text": [
      "Scanning Helicoverpa armigera:  44%|████▍     | 218/495 [00:00<00:00, 1093.71it/s]"
     ]
    },
    {
     "name": "stdout",
     "output_type": "stream",
     "text": [
      "🗑️ Removing duplicate: ./Helicoverpa armigera\\000253.jpg\n",
      "🗑️ Removing duplicate: ./Helicoverpa armigera\\000254.jpg\n",
      "🗑️ Removing duplicate: ./Helicoverpa armigera\\000263.jpg\n",
      "🗑️ Removing duplicate: ./Helicoverpa armigera\\000265.jpg\n",
      "🗑️ Removing duplicate: ./Helicoverpa armigera\\000266.jpg\n",
      "🗑️ Removing duplicate: ./Helicoverpa armigera\\000268.jpg\n",
      "🗑️ Removing duplicate: ./Helicoverpa armigera\\000269.jpg\n",
      "🗑️ Removing duplicate: ./Helicoverpa armigera\\000270.jpg\n",
      "🗑️ Removing duplicate: ./Helicoverpa armigera\\000272.jpg\n",
      "🗑️ Removing duplicate: ./Helicoverpa armigera\\000273.jpg\n",
      "🗑️ Removing duplicate: ./Helicoverpa armigera\\000278.jpg\n",
      "🗑️ Removing duplicate: ./Helicoverpa armigera\\000279.jpg\n",
      "🗑️ Removing duplicate: ./Helicoverpa armigera\\000281.jpg\n",
      "🗑️ Removing duplicate: ./Helicoverpa armigera\\000283.jpg\n",
      "🗑️ Removing duplicate: ./Helicoverpa armigera\\000284.jpg\n",
      "🗑️ Removing duplicate: ./Helicoverpa armigera\\000286.jpg\n",
      "🗑️ Removing duplicate: ./Helicoverpa armigera\\000287.jpg\n",
      "🗑️ Removing duplicate: ./Helicoverpa armigera\\000288.jpg\n",
      "🗑️ Removing duplicate: ./Helicoverpa armigera\\000290.jpg\n",
      "🗑️ Removing duplicate: ./Helicoverpa armigera\\000291.jpg\n",
      "🗑️ Removing duplicate: ./Helicoverpa armigera\\000292.jpg\n",
      "🗑️ Removing duplicate: ./Helicoverpa armigera\\000293.jpg\n",
      "🗑️ Removing duplicate: ./Helicoverpa armigera\\000294.jpg\n",
      "🗑️ Removing duplicate: ./Helicoverpa armigera\\000295.jpg\n",
      "🗑️ Removing duplicate: ./Helicoverpa armigera\\000296.jpg\n",
      "🗑️ Removing duplicate: ./Helicoverpa armigera\\000299.jpg\n",
      "🗑️ Removing duplicate: ./Helicoverpa armigera\\000300.jpg\n",
      "🗑️ Removing duplicate: ./Helicoverpa armigera\\000303.jpg\n"
     ]
    },
    {
     "name": "stderr",
     "output_type": "stream",
     "text": [
      "Scanning Helicoverpa armigera:  66%|██████▋   | 328/495 [00:00<00:00, 1020.53it/s]"
     ]
    },
    {
     "name": "stdout",
     "output_type": "stream",
     "text": [
      "🗑️ Removing duplicate: ./Helicoverpa armigera\\000304.jpg\n",
      "🗑️ Removing duplicate: ./Helicoverpa armigera\\000305.jpg\n",
      "🗑️ Removing duplicate: ./Helicoverpa armigera\\000306.jpg\n",
      "🗑️ Removing duplicate: ./Helicoverpa armigera\\000307.jpg\n",
      "🗑️ Removing duplicate: ./Helicoverpa armigera\\000308.jpg\n",
      "🗑️ Removing duplicate: ./Helicoverpa armigera\\000310.jpg\n",
      "🗑️ Removing duplicate: ./Helicoverpa armigera\\000312.jpg\n",
      "🗑️ Removing duplicate: ./Helicoverpa armigera\\000315.jpg\n",
      "🗑️ Removing duplicate: ./Helicoverpa armigera\\000317.jpg\n",
      "🗑️ Removing duplicate: ./Helicoverpa armigera\\000318.jpg\n",
      "🗑️ Removing duplicate: ./Helicoverpa armigera\\000319.jpg\n",
      "🗑️ Removing duplicate: ./Helicoverpa armigera\\000320.jpg\n",
      "🗑️ Removing duplicate: ./Helicoverpa armigera\\000321.jpg\n",
      "🗑️ Removing duplicate: ./Helicoverpa armigera\\000322.jpg\n",
      "🗑️ Removing duplicate: ./Helicoverpa armigera\\000323.JPG\n",
      "🗑️ Removing duplicate: ./Helicoverpa armigera\\000325.jpg\n",
      "🗑️ Removing duplicate: ./Helicoverpa armigera\\000326.jpg\n",
      "🗑️ Removing duplicate: ./Helicoverpa armigera\\000328.jpg\n",
      "🗑️ Removing duplicate: ./Helicoverpa armigera\\000339.jpg\n",
      "🗑️ Removing duplicate: ./Helicoverpa armigera\\000340.jpg\n",
      "🗑️ Removing duplicate: ./Helicoverpa armigera\\000346.jpg\n",
      "🗑️ Removing duplicate: ./Helicoverpa armigera\\000349.jpg\n",
      "🗑️ Removing duplicate: ./Helicoverpa armigera\\000351.JPG\n",
      "🗑️ Removing duplicate: ./Helicoverpa armigera\\000352.jpg\n",
      "🗑️ Removing duplicate: ./Helicoverpa armigera\\000353.jpg\n",
      "🗑️ Removing duplicate: ./Helicoverpa armigera\\000354.jpg\n",
      "🗑️ Removing duplicate: ./Helicoverpa armigera\\000356.jpg\n",
      "🗑️ Removing duplicate: ./Helicoverpa armigera\\000357.jpg\n",
      "🗑️ Removing duplicate: ./Helicoverpa armigera\\000358.jpg\n",
      "🗑️ Removing duplicate: ./Helicoverpa armigera\\000360.jpg\n",
      "🗑️ Removing duplicate: ./Helicoverpa armigera\\000364.jpg\n",
      "🗑️ Removing duplicate: ./Helicoverpa armigera\\000365.jpg\n",
      "🗑️ Removing duplicate: ./Helicoverpa armigera\\000366.jpg\n",
      "🗑️ Removing duplicate: ./Helicoverpa armigera\\000370.jpg\n",
      "🗑️ Removing duplicate: ./Helicoverpa armigera\\000371.jpg\n",
      "🗑️ Removing duplicate: ./Helicoverpa armigera\\000375.jpg\n",
      "🗑️ Removing duplicate: ./Helicoverpa armigera\\000378.jpg\n",
      "🗑️ Removing duplicate: ./Helicoverpa armigera\\000381.jpg\n",
      "🗑️ Removing duplicate: ./Helicoverpa armigera\\000383.jpg\n",
      "🗑️ Removing duplicate: ./Helicoverpa armigera\\000384.jpg\n",
      "🗑️ Removing duplicate: ./Helicoverpa armigera\\000387.jpg\n",
      "🗑️ Removing duplicate: ./Helicoverpa armigera\\000389.jpg\n",
      "🗑️ Removing duplicate: ./Helicoverpa armigera\\000391.jpg\n",
      "🗑️ Removing duplicate: ./Helicoverpa armigera\\000392.jpg\n",
      "🗑️ Removing duplicate: ./Helicoverpa armigera\\000394.jpg\n",
      "🗑️ Removing duplicate: ./Helicoverpa armigera\\000395.jpg\n",
      "🗑️ Removing duplicate: ./Helicoverpa armigera\\000396.jpg\n",
      "🗑️ Removing duplicate: ./Helicoverpa armigera\\000399.jpg\n",
      "🗑️ Removing duplicate: ./Helicoverpa armigera\\000401.jpg\n",
      "🗑️ Removing duplicate: ./Helicoverpa armigera\\000404.jpg\n",
      "🗑️ Removing duplicate: ./Helicoverpa armigera\\000405.jpg\n",
      "🗑️ Removing duplicate: ./Helicoverpa armigera\\000407.jpg\n",
      "🗑️ Removing duplicate: ./Helicoverpa armigera\\000409.jpg\n",
      "🗑️ Removing duplicate: ./Helicoverpa armigera\\000410.jpg\n",
      "🗑️ Removing duplicate: ./Helicoverpa armigera\\000413.jpg\n",
      "🗑️ Removing duplicate: ./Helicoverpa armigera\\000415.jpg\n",
      "🗑️ Removing duplicate: ./Helicoverpa armigera\\000419.jpg\n",
      "🗑️ Removing duplicate: ./Helicoverpa armigera\\000423.jpg\n",
      "🗑️ Removing duplicate: ./Helicoverpa armigera\\000428.jpg\n",
      "🗑️ Removing duplicate: ./Helicoverpa armigera\\helicoverpa_50.jpg\n"
     ]
    },
    {
     "name": "stderr",
     "output_type": "stream",
     "text": [
      "Scanning Helicoverpa armigera:  87%|████████▋ | 431/495 [00:00<00:00, 991.06it/s] "
     ]
    },
    {
     "name": "stdout",
     "output_type": "stream",
     "text": [
      "🗑️ Removing duplicate: ./Helicoverpa armigera\\Image_1.jpg\n",
      "🗑️ Removing duplicate: ./Helicoverpa armigera\\Image_11.jpg\n",
      "🗑️ Removing duplicate: ./Helicoverpa armigera\\Image_16.jpg\n"
     ]
    },
    {
     "name": "stderr",
     "output_type": "stream",
     "text": [
      "Scanning Helicoverpa armigera: 100%|██████████| 495/495 [00:00<00:00, 987.93it/s]\n"
     ]
    },
    {
     "name": "stdout",
     "output_type": "stream",
     "text": [
      "🗑️ Removing duplicate: ./Helicoverpa armigera\\Image_27.jpg\n",
      "🗑️ Removing duplicate: ./Helicoverpa armigera\\Image_38.jpg\n",
      "🗑️ Removing duplicate: ./Helicoverpa armigera\\Image_4.jpg\n",
      "🗑️ Removing duplicate: ./Helicoverpa armigera\\Image_49.jpg\n",
      "🗑️ Removing duplicate: ./Helicoverpa armigera\\Image_5.jpg\n",
      "🗑️ Removing duplicate: ./Helicoverpa armigera\\Image_50.jpg\n",
      "🗑️ Removing duplicate: ./Helicoverpa armigera\\Image_55.jpg\n",
      "🗑️ Removing duplicate: ./Helicoverpa armigera\\Image_57.jpg\n",
      "🗑️ Removing duplicate: ./Helicoverpa armigera\\Image_58.jpg\n",
      "🗑️ Removing duplicate: ./Helicoverpa armigera\\Image_63.JPG\n",
      "🗑️ Removing duplicate: ./Helicoverpa armigera\\Image_64.jpg\n",
      "🗑️ Removing duplicate: ./Helicoverpa armigera\\Image_66.jpg\n",
      "🗑️ Removing duplicate: ./Helicoverpa armigera\\Image_67.jpg\n",
      "🗑️ Removing duplicate: ./Helicoverpa armigera\\Image_71.jpg\n",
      "🗑️ Removing duplicate: ./Helicoverpa armigera\\Image_72.jpg\n",
      "🗑️ Removing duplicate: ./Helicoverpa armigera\\Image_74.jpg\n",
      "🗑️ Removing duplicate: ./Helicoverpa armigera\\Image_75.jpg\n",
      "🗑️ Removing duplicate: ./Helicoverpa armigera\\Image_77.jpg\n",
      "🗑️ Removing duplicate: ./Helicoverpa armigera\\Image_78.jpg\n",
      "🗑️ Removing duplicate: ./Helicoverpa armigera\\Image_8.jpg\n",
      "🗑️ Removing duplicate: ./Helicoverpa armigera\\Image_87.jpg\n",
      "🗑️ Removing duplicate: ./Helicoverpa armigera\\Image_91.JPG\n",
      "Checking duplicates in: mites\n"
     ]
    },
    {
     "name": "stderr",
     "output_type": "stream",
     "text": [
      "Scanning mites:   0%|          | 0/498 [00:00<?, ?it/s]"
     ]
    },
    {
     "name": "stdout",
     "output_type": "stream",
     "text": [
      "🗑️ Removing duplicate: ./mites\\000037.jpg\n",
      "🗑️ Removing duplicate: ./mites\\000067.jpg\n"
     ]
    },
    {
     "name": "stderr",
     "output_type": "stream",
     "text": [
      "Scanning mites:  21%|██        | 103/498 [00:00<00:00, 1017.07it/s]"
     ]
    },
    {
     "name": "stdout",
     "output_type": "stream",
     "text": [
      "🗑️ Removing duplicate: ./mites\\000133.jpg\n",
      "🗑️ Removing duplicate: ./mites\\000143.JPG\n",
      "🗑️ Removing duplicate: ./mites\\000154.jpg\n",
      "🗑️ Removing duplicate: ./mites\\000157.jpg\n",
      "🗑️ Removing duplicate: ./mites\\000158.jpg\n",
      "🗑️ Removing duplicate: ./mites\\000162.jpg\n",
      "🗑️ Removing duplicate: ./mites\\000174.jpg\n",
      "🗑️ Removing duplicate: ./mites\\000176.jpg\n",
      "🗑️ Removing duplicate: ./mites\\000181.jpg\n",
      "🗑️ Removing duplicate: ./mites\\000193.jpg\n",
      "🗑️ Removing duplicate: ./mites\\000198.jpg\n",
      "🗑️ Removing duplicate: ./mites\\000209.jpg\n",
      "🗑️ Removing duplicate: ./mites\\000213.jpg\n",
      "🗑️ Removing duplicate: ./mites\\000220.jpg\n",
      "🗑️ Removing duplicate: ./mites\\000229.jpg\n",
      "🗑️ Removing duplicate: ./mites\\000232.jpg\n",
      "🗑️ Removing duplicate: ./mites\\000233.jpg\n",
      "🗑️ Removing duplicate: ./mites\\000259.jpg\n"
     ]
    },
    {
     "name": "stderr",
     "output_type": "stream",
     "text": [
      "Scanning mites:  41%|████      | 205/498 [00:00<00:00, 827.20it/s] "
     ]
    },
    {
     "name": "stdout",
     "output_type": "stream",
     "text": [
      "🗑️ Removing duplicate: ./mites\\000274.jpg\n",
      "🗑️ Removing duplicate: ./mites\\000285.jpg\n",
      "🗑️ Removing duplicate: ./mites\\000292.jpg\n",
      "🗑️ Removing duplicate: ./mites\\000303.jpg\n",
      "🗑️ Removing duplicate: ./mites\\000307.jpg\n",
      "🗑️ Removing duplicate: ./mites\\000317.jpg\n",
      "🗑️ Removing duplicate: ./mites\\000325.jpg\n",
      "🗑️ Removing duplicate: ./mites\\000336.jpg\n",
      "🗑️ Removing duplicate: ./mites\\000338.jpg\n",
      "🗑️ Removing duplicate: ./mites\\000341.jpg\n",
      "🗑️ Removing duplicate: ./mites\\000342.jpg\n",
      "🗑️ Removing duplicate: ./mites\\000347.jpg\n",
      "🗑️ Removing duplicate: ./mites\\000348.jpg\n",
      "🗑️ Removing duplicate: ./mites\\000349.jpg\n",
      "🗑️ Removing duplicate: ./mites\\000350.jpg\n",
      "🗑️ Removing duplicate: ./mites\\000351.jpg\n",
      "🗑️ Removing duplicate: ./mites\\000358.jpg\n",
      "🗑️ Removing duplicate: ./mites\\000359.jpg\n",
      "🗑️ Removing duplicate: ./mites\\000361.jpg\n",
      "🗑️ Removing duplicate: ./mites\\000365.jpg\n",
      "🗑️ Removing duplicate: ./mites\\000366.jpg\n",
      "🗑️ Removing duplicate: ./mites\\000368.jpg\n",
      "🗑️ Removing duplicate: ./mites\\000369.jpg\n"
     ]
    },
    {
     "name": "stderr",
     "output_type": "stream",
     "text": [
      "Scanning mites:  58%|█████▊    | 290/498 [00:00<00:00, 624.42it/s]"
     ]
    },
    {
     "name": "stdout",
     "output_type": "stream",
     "text": [
      "🗑️ Removing duplicate: ./mites\\000371.jpg\n",
      "🗑️ Removing duplicate: ./mites\\000372.jpg\n",
      "🗑️ Removing duplicate: ./mites\\000376.jpg\n",
      "🗑️ Removing duplicate: ./mites\\000378.jpg\n",
      "🗑️ Removing duplicate: ./mites\\000379.jpg\n",
      "🗑️ Removing duplicate: ./mites\\000383.jpg\n",
      "🗑️ Removing duplicate: ./mites\\000384.jpg\n",
      "🗑️ Removing duplicate: ./mites\\000385.jpg\n",
      "🗑️ Removing duplicate: ./mites\\000386.jpg\n",
      "🗑️ Removing duplicate: ./mites\\000388.jpg\n",
      "🗑️ Removing duplicate: ./mites\\000391.jpg\n",
      "🗑️ Removing duplicate: ./mites\\000392.jpg\n",
      "🗑️ Removing duplicate: ./mites\\000394.jpg\n",
      "🗑️ Removing duplicate: ./mites\\000396.jpg\n",
      "🗑️ Removing duplicate: ./mites\\000402.jpg\n",
      "🗑️ Removing duplicate: ./mites\\000403.jpg\n",
      "🗑️ Removing duplicate: ./mites\\000404.jpg\n",
      "🗑️ Removing duplicate: ./mites\\000415.jpg\n",
      "🗑️ Removing duplicate: ./mites\\000419.jpg\n"
     ]
    },
    {
     "name": "stderr",
     "output_type": "stream",
     "text": [
      "Scanning mites:  72%|███████▏  | 358/498 [00:00<00:00, 553.52it/s]"
     ]
    },
    {
     "name": "stdout",
     "output_type": "stream",
     "text": [
      "🗑️ Removing duplicate: ./mites\\Image_1.jpg\n"
     ]
    },
    {
     "name": "stderr",
     "output_type": "stream",
     "text": [
      "Scanning mites: 100%|██████████| 498/498 [00:00<00:00, 632.51it/s]\n"
     ]
    },
    {
     "name": "stdout",
     "output_type": "stream",
     "text": [
      "🗑️ Removing duplicate: ./mites\\Image_11.jpg\n",
      "🗑️ Removing duplicate: ./mites\\Image_13.jpg\n",
      "🗑️ Removing duplicate: ./mites\\Image_2.jpg\n",
      "🗑️ Removing duplicate: ./mites\\Image_3.jpg\n",
      "🗑️ Removing duplicate: ./mites\\Image_30.jpg\n",
      "🗑️ Removing duplicate: ./mites\\Image_32.jpg\n",
      "🗑️ Removing duplicate: ./mites\\Image_33.jpg\n",
      "🗑️ Removing duplicate: ./mites\\Image_41.jpg\n",
      "🗑️ Removing duplicate: ./mites\\Image_53.jpg\n",
      "🗑️ Removing duplicate: ./mites\\Image_59.jpg\n",
      "🗑️ Removing duplicate: ./mites\\Image_6.jpg\n",
      "🗑️ Removing duplicate: ./mites\\Image_65.jpg\n",
      "🗑️ Removing duplicate: ./mites\\Image_66.jpg\n",
      "🗑️ Removing duplicate: ./mites\\Image_68.jpg\n",
      "🗑️ Removing duplicate: ./mites\\Image_70.jpg\n",
      "🗑️ Removing duplicate: ./mites\\Image_74.jpg\n",
      "🗑️ Removing duplicate: ./mites\\Image_81.jpg\n",
      "🗑️ Removing duplicate: ./mites\\Image_82.jpg\n",
      "🗑️ Removing duplicate: ./mites\\Image_83.jpg\n",
      "🗑️ Removing duplicate: ./mites\\Image_91.jpg\n",
      "Checking duplicates in: Schistocerca gregaria\n"
     ]
    },
    {
     "name": "stderr",
     "output_type": "stream",
     "text": [
      "Scanning Schistocerca gregaria: 100%|██████████| 500/500 [00:00<00:00, 978.07it/s] \n"
     ]
    },
    {
     "name": "stdout",
     "output_type": "stream",
     "text": [
      "Checking duplicates in: Spodoptera exigua\n"
     ]
    },
    {
     "name": "stderr",
     "output_type": "stream",
     "text": [
      "Scanning Spodoptera exigua:  29%|██▉       | 144/500 [00:00<00:00, 718.32it/s]"
     ]
    },
    {
     "name": "stdout",
     "output_type": "stream",
     "text": [
      "🗑️ Removing duplicate: ./Spodoptera exigua\\27605.jpg\n",
      "🗑️ Removing duplicate: ./Spodoptera exigua\\27609.jpg\n",
      "🗑️ Removing duplicate: ./Spodoptera exigua\\27611.jpg\n",
      "🗑️ Removing duplicate: ./Spodoptera exigua\\27614.jpg\n",
      "🗑️ Removing duplicate: ./Spodoptera exigua\\27617.jpg\n",
      "🗑️ Removing duplicate: ./Spodoptera exigua\\27618.jpg\n",
      "🗑️ Removing duplicate: ./Spodoptera exigua\\27621.jpg\n",
      "🗑️ Removing duplicate: ./Spodoptera exigua\\27622.jpg\n",
      "🗑️ Removing duplicate: ./Spodoptera exigua\\27623.jpg\n",
      "🗑️ Removing duplicate: ./Spodoptera exigua\\27626.jpg\n",
      "🗑️ Removing duplicate: ./Spodoptera exigua\\27630.jpg\n",
      "🗑️ Removing duplicate: ./Spodoptera exigua\\27635.jpg\n",
      "🗑️ Removing duplicate: ./Spodoptera exigua\\27637.jpg\n",
      "🗑️ Removing duplicate: ./Spodoptera exigua\\27639.jpg\n",
      "🗑️ Removing duplicate: ./Spodoptera exigua\\27640.jpg\n",
      "🗑️ Removing duplicate: ./Spodoptera exigua\\27644.jpg\n",
      "🗑️ Removing duplicate: ./Spodoptera exigua\\27645.jpg\n",
      "🗑️ Removing duplicate: ./Spodoptera exigua\\27648.jpg\n",
      "🗑️ Removing duplicate: ./Spodoptera exigua\\27649.jpg\n",
      "🗑️ Removing duplicate: ./Spodoptera exigua\\27650.jpg\n",
      "🗑️ Removing duplicate: ./Spodoptera exigua\\27651.jpg\n",
      "🗑️ Removing duplicate: ./Spodoptera exigua\\27654.jpg\n",
      "🗑️ Removing duplicate: ./Spodoptera exigua\\27657.jpg\n",
      "🗑️ Removing duplicate: ./Spodoptera exigua\\27658.jpg\n",
      "🗑️ Removing duplicate: ./Spodoptera exigua\\27661.jpg\n",
      "🗑️ Removing duplicate: ./Spodoptera exigua\\27669.jpg\n",
      "🗑️ Removing duplicate: ./Spodoptera exigua\\27670.jpg\n",
      "🗑️ Removing duplicate: ./Spodoptera exigua\\27671.jpg\n",
      "🗑️ Removing duplicate: ./Spodoptera exigua\\27676.jpg\n",
      "🗑️ Removing duplicate: ./Spodoptera exigua\\27680.jpg\n",
      "🗑️ Removing duplicate: ./Spodoptera exigua\\27684.jpg\n",
      "🗑️ Removing duplicate: ./Spodoptera exigua\\27686.jpg\n",
      "🗑️ Removing duplicate: ./Spodoptera exigua\\27688.jpg\n",
      "🗑️ Removing duplicate: ./Spodoptera exigua\\27689.jpg\n",
      "🗑️ Removing duplicate: ./Spodoptera exigua\\27693.jpg\n",
      "🗑️ Removing duplicate: ./Spodoptera exigua\\27699.jpg\n",
      "🗑️ Removing duplicate: ./Spodoptera exigua\\27702.jpg\n",
      "🗑️ Removing duplicate: ./Spodoptera exigua\\27704.jpg\n",
      "🗑️ Removing duplicate: ./Spodoptera exigua\\27711.jpg\n",
      "🗑️ Removing duplicate: ./Spodoptera exigua\\27714.jpg\n",
      "🗑️ Removing duplicate: ./Spodoptera exigua\\27715.jpg\n",
      "🗑️ Removing duplicate: ./Spodoptera exigua\\27720.jpg\n",
      "🗑️ Removing duplicate: ./Spodoptera exigua\\27728.jpg\n",
      "🗑️ Removing duplicate: ./Spodoptera exigua\\27729.jpg\n",
      "🗑️ Removing duplicate: ./Spodoptera exigua\\27732.jpg\n",
      "🗑️ Removing duplicate: ./Spodoptera exigua\\27736.jpg\n",
      "🗑️ Removing duplicate: ./Spodoptera exigua\\27739.jpg\n",
      "🗑️ Removing duplicate: ./Spodoptera exigua\\27742.jpg\n",
      "🗑️ Removing duplicate: ./Spodoptera exigua\\27745.jpg\n",
      "🗑️ Removing duplicate: ./Spodoptera exigua\\27746.jpg\n",
      "🗑️ Removing duplicate: ./Spodoptera exigua\\27747.jpg\n",
      "🗑️ Removing duplicate: ./Spodoptera exigua\\27749.jpg\n",
      "🗑️ Removing duplicate: ./Spodoptera exigua\\27752.jpg\n",
      "🗑️ Removing duplicate: ./Spodoptera exigua\\27756.jpg\n",
      "🗑️ Removing duplicate: ./Spodoptera exigua\\27758.jpg\n",
      "🗑️ Removing duplicate: ./Spodoptera exigua\\27759.jpg\n",
      "🗑️ Removing duplicate: ./Spodoptera exigua\\27760.jpg\n",
      "🗑️ Removing duplicate: ./Spodoptera exigua\\27764.jpg\n",
      "🗑️ Removing duplicate: ./Spodoptera exigua\\27767.jpg\n",
      "🗑️ Removing duplicate: ./Spodoptera exigua\\27769.jpg\n",
      "🗑️ Removing duplicate: ./Spodoptera exigua\\27770.jpg\n",
      "🗑️ Removing duplicate: ./Spodoptera exigua\\27773.jpg\n",
      "🗑️ Removing duplicate: ./Spodoptera exigua\\27774.jpg\n",
      "🗑️ Removing duplicate: ./Spodoptera exigua\\27778.jpg\n",
      "🗑️ Removing duplicate: ./Spodoptera exigua\\27779.jpg\n",
      "🗑️ Removing duplicate: ./Spodoptera exigua\\27787.jpg\n",
      "🗑️ Removing duplicate: ./Spodoptera exigua\\27792.jpg\n",
      "🗑️ Removing duplicate: ./Spodoptera exigua\\27793.jpg\n",
      "🗑️ Removing duplicate: ./Spodoptera exigua\\27797.jpg\n",
      "🗑️ Removing duplicate: ./Spodoptera exigua\\27804.jpg\n",
      "🗑️ Removing duplicate: ./Spodoptera exigua\\27810.jpg\n",
      "🗑️ Removing duplicate: ./Spodoptera exigua\\27816.jpg\n",
      "🗑️ Removing duplicate: ./Spodoptera exigua\\27817.jpg\n",
      "🗑️ Removing duplicate: ./Spodoptera exigua\\27820.jpg\n",
      "🗑️ Removing duplicate: ./Spodoptera exigua\\27824.jpg\n",
      "🗑️ Removing duplicate: ./Spodoptera exigua\\27827.jpg\n",
      "🗑️ Removing duplicate: ./Spodoptera exigua\\27828.jpg\n",
      "🗑️ Removing duplicate: ./Spodoptera exigua\\27837.jpg\n",
      "🗑️ Removing duplicate: ./Spodoptera exigua\\27846.jpg\n",
      "🗑️ Removing duplicate: ./Spodoptera exigua\\27847.jpg\n",
      "🗑️ Removing duplicate: ./Spodoptera exigua\\27849.jpg\n",
      "🗑️ Removing duplicate: ./Spodoptera exigua\\27850.jpg\n",
      "🗑️ Removing duplicate: ./Spodoptera exigua\\27853.jpg\n",
      "🗑️ Removing duplicate: ./Spodoptera exigua\\27857.jpg\n",
      "🗑️ Removing duplicate: ./Spodoptera exigua\\27861.jpg\n",
      "🗑️ Removing duplicate: ./Spodoptera exigua\\27864.jpg\n",
      "🗑️ Removing duplicate: ./Spodoptera exigua\\27872.jpg\n",
      "🗑️ Removing duplicate: ./Spodoptera exigua\\27874.jpg\n",
      "🗑️ Removing duplicate: ./Spodoptera exigua\\27881.jpg\n",
      "🗑️ Removing duplicate: ./Spodoptera exigua\\27883.jpg\n",
      "🗑️ Removing duplicate: ./Spodoptera exigua\\27887.jpg\n",
      "🗑️ Removing duplicate: ./Spodoptera exigua\\27888.jpg\n",
      "🗑️ Removing duplicate: ./Spodoptera exigua\\27891.jpg\n",
      "🗑️ Removing duplicate: ./Spodoptera exigua\\27895.jpg\n",
      "🗑️ Removing duplicate: ./Spodoptera exigua\\27896.jpg\n",
      "🗑️ Removing duplicate: ./Spodoptera exigua\\27901.jpg\n",
      "🗑️ Removing duplicate: ./Spodoptera exigua\\27904.jpg\n",
      "🗑️ Removing duplicate: ./Spodoptera exigua\\27912.jpg\n",
      "🗑️ Removing duplicate: ./Spodoptera exigua\\27915.jpg\n",
      "🗑️ Removing duplicate: ./Spodoptera exigua\\27920.jpg\n",
      "🗑️ Removing duplicate: ./Spodoptera exigua\\27926.jpg\n",
      "🗑️ Removing duplicate: ./Spodoptera exigua\\27928.jpg\n",
      "🗑️ Removing duplicate: ./Spodoptera exigua\\27934.jpg\n",
      "🗑️ Removing duplicate: ./Spodoptera exigua\\27936.jpg\n",
      "🗑️ Removing duplicate: ./Spodoptera exigua\\27941.jpg\n",
      "🗑️ Removing duplicate: ./Spodoptera exigua\\27943.jpg\n",
      "🗑️ Removing duplicate: ./Spodoptera exigua\\27950.jpg\n",
      "🗑️ Removing duplicate: ./Spodoptera exigua\\27952.jpg\n",
      "🗑️ Removing duplicate: ./Spodoptera exigua\\27955.jpg\n",
      "🗑️ Removing duplicate: ./Spodoptera exigua\\27957.jpg\n",
      "🗑️ Removing duplicate: ./Spodoptera exigua\\27958.jpg\n",
      "🗑️ Removing duplicate: ./Spodoptera exigua\\27968.jpg\n",
      "🗑️ Removing duplicate: ./Spodoptera exigua\\27970.jpg\n",
      "🗑️ Removing duplicate: ./Spodoptera exigua\\27973.jpg\n",
      "🗑️ Removing duplicate: ./Spodoptera exigua\\27974.jpg\n",
      "🗑️ Removing duplicate: ./Spodoptera exigua\\27985.jpg\n",
      "🗑️ Removing duplicate: ./Spodoptera exigua\\27987.jpg\n",
      "🗑️ Removing duplicate: ./Spodoptera exigua\\27989.jpg\n",
      "🗑️ Removing duplicate: ./Spodoptera exigua\\27995.jpg\n",
      "🗑️ Removing duplicate: ./Spodoptera exigua\\27996.jpg\n",
      "🗑️ Removing duplicate: ./Spodoptera exigua\\27997.jpg\n",
      "🗑️ Removing duplicate: ./Spodoptera exigua\\28001.jpg\n",
      "🗑️ Removing duplicate: ./Spodoptera exigua\\28005.jpg\n",
      "🗑️ Removing duplicate: ./Spodoptera exigua\\28010.jpg\n",
      "🗑️ Removing duplicate: ./Spodoptera exigua\\28012.jpg\n",
      "🗑️ Removing duplicate: ./Spodoptera exigua\\28017.jpg\n",
      "🗑️ Removing duplicate: ./Spodoptera exigua\\28018.jpg\n",
      "🗑️ Removing duplicate: ./Spodoptera exigua\\28019.jpg\n",
      "🗑️ Removing duplicate: ./Spodoptera exigua\\28020.jpg\n",
      "🗑️ Removing duplicate: ./Spodoptera exigua\\28021.jpg\n",
      "🗑️ Removing duplicate: ./Spodoptera exigua\\28030.jpg\n",
      "🗑️ Removing duplicate: ./Spodoptera exigua\\28034.jpg\n",
      "🗑️ Removing duplicate: ./Spodoptera exigua\\28037.jpg\n",
      "🗑️ Removing duplicate: ./Spodoptera exigua\\28038.jpg\n",
      "🗑️ Removing duplicate: ./Spodoptera exigua\\28039.jpg\n",
      "🗑️ Removing duplicate: ./Spodoptera exigua\\28040.jpg\n",
      "🗑️ Removing duplicate: ./Spodoptera exigua\\28041.jpg\n",
      "🗑️ Removing duplicate: ./Spodoptera exigua\\28043.jpg\n",
      "🗑️ Removing duplicate: ./Spodoptera exigua\\28044.jpg\n",
      "🗑️ Removing duplicate: ./Spodoptera exigua\\28046.jpg\n",
      "🗑️ Removing duplicate: ./Spodoptera exigua\\28050.jpg\n",
      "🗑️ Removing duplicate: ./Spodoptera exigua\\28052.jpg\n",
      "🗑️ Removing duplicate: ./Spodoptera exigua\\28055.jpg\n",
      "🗑️ Removing duplicate: ./Spodoptera exigua\\28061.jpg\n"
     ]
    },
    {
     "name": "stderr",
     "output_type": "stream",
     "text": [
      "Scanning Spodoptera exigua:  59%|█████▉    | 295/500 [00:00<00:00, 728.00it/s]"
     ]
    },
    {
     "name": "stdout",
     "output_type": "stream",
     "text": [
      "🗑️ Removing duplicate: ./Spodoptera exigua\\28072.jpg\n",
      "🗑️ Removing duplicate: ./Spodoptera exigua\\28075.jpg\n",
      "🗑️ Removing duplicate: ./Spodoptera exigua\\28079.jpg\n",
      "🗑️ Removing duplicate: ./Spodoptera exigua\\28080.jpg\n",
      "🗑️ Removing duplicate: ./Spodoptera exigua\\28081.jpg\n",
      "🗑️ Removing duplicate: ./Spodoptera exigua\\28087.jpg\n",
      "🗑️ Removing duplicate: ./Spodoptera exigua\\28091.jpg\n",
      "🗑️ Removing duplicate: ./Spodoptera exigua\\28094.jpg\n",
      "🗑️ Removing duplicate: ./Spodoptera exigua\\28101.jpg\n",
      "🗑️ Removing duplicate: ./Spodoptera exigua\\28106.jpg\n",
      "🗑️ Removing duplicate: ./Spodoptera exigua\\28109.jpg\n",
      "🗑️ Removing duplicate: ./Spodoptera exigua\\28115.jpg\n",
      "🗑️ Removing duplicate: ./Spodoptera exigua\\28121.jpg\n",
      "🗑️ Removing duplicate: ./Spodoptera exigua\\28122.jpg\n",
      "🗑️ Removing duplicate: ./Spodoptera exigua\\28123.jpg\n",
      "🗑️ Removing duplicate: ./Spodoptera exigua\\28124.jpg\n",
      "🗑️ Removing duplicate: ./Spodoptera exigua\\28127.jpg\n",
      "🗑️ Removing duplicate: ./Spodoptera exigua\\28132.jpg\n",
      "🗑️ Removing duplicate: ./Spodoptera exigua\\28136.jpg\n",
      "🗑️ Removing duplicate: ./Spodoptera exigua\\28138.jpg\n",
      "🗑️ Removing duplicate: ./Spodoptera exigua\\28140.jpg\n",
      "🗑️ Removing duplicate: ./Spodoptera exigua\\28150.jpg\n",
      "🗑️ Removing duplicate: ./Spodoptera exigua\\28152.jpg\n",
      "🗑️ Removing duplicate: ./Spodoptera exigua\\28156.jpg\n",
      "🗑️ Removing duplicate: ./Spodoptera exigua\\28158.jpg\n",
      "🗑️ Removing duplicate: ./Spodoptera exigua\\28162.jpg\n",
      "🗑️ Removing duplicate: ./Spodoptera exigua\\28163.jpg\n",
      "🗑️ Removing duplicate: ./Spodoptera exigua\\28165.jpg\n",
      "🗑️ Removing duplicate: ./Spodoptera exigua\\28166.jpg\n",
      "🗑️ Removing duplicate: ./Spodoptera exigua\\28168.jpg\n",
      "🗑️ Removing duplicate: ./Spodoptera exigua\\28175.jpg\n",
      "🗑️ Removing duplicate: ./Spodoptera exigua\\28182.jpg\n",
      "🗑️ Removing duplicate: ./Spodoptera exigua\\28183.jpg\n",
      "🗑️ Removing duplicate: ./Spodoptera exigua\\28190.jpg\n",
      "🗑️ Removing duplicate: ./Spodoptera exigua\\28192.jpg\n",
      "🗑️ Removing duplicate: ./Spodoptera exigua\\28196.jpg\n",
      "🗑️ Removing duplicate: ./Spodoptera exigua\\28197.jpg\n",
      "🗑️ Removing duplicate: ./Spodoptera exigua\\28204.jpg\n",
      "🗑️ Removing duplicate: ./Spodoptera exigua\\28205.jpg\n",
      "🗑️ Removing duplicate: ./Spodoptera exigua\\28206.jpg\n",
      "🗑️ Removing duplicate: ./Spodoptera exigua\\28209.jpg\n",
      "🗑️ Removing duplicate: ./Spodoptera exigua\\28212.jpg\n",
      "🗑️ Removing duplicate: ./Spodoptera exigua\\28213.jpg\n",
      "🗑️ Removing duplicate: ./Spodoptera exigua\\28215.jpg\n",
      "🗑️ Removing duplicate: ./Spodoptera exigua\\28226.jpg\n",
      "🗑️ Removing duplicate: ./Spodoptera exigua\\28230.jpg\n",
      "🗑️ Removing duplicate: ./Spodoptera exigua\\28231.jpg\n",
      "🗑️ Removing duplicate: ./Spodoptera exigua\\28234.jpg\n",
      "🗑️ Removing duplicate: ./Spodoptera exigua\\28238.jpg\n",
      "🗑️ Removing duplicate: ./Spodoptera exigua\\28247.jpg\n",
      "🗑️ Removing duplicate: ./Spodoptera exigua\\28259.jpg\n",
      "🗑️ Removing duplicate: ./Spodoptera exigua\\28260.jpg\n",
      "🗑️ Removing duplicate: ./Spodoptera exigua\\28263.jpg\n",
      "🗑️ Removing duplicate: ./Spodoptera exigua\\28268.jpg\n",
      "🗑️ Removing duplicate: ./Spodoptera exigua\\28275.jpg\n",
      "🗑️ Removing duplicate: ./Spodoptera exigua\\28282.jpg\n",
      "🗑️ Removing duplicate: ./Spodoptera exigua\\28286.jpg\n",
      "🗑️ Removing duplicate: ./Spodoptera exigua\\28289.jpg\n",
      "🗑️ Removing duplicate: ./Spodoptera exigua\\28296.jpg\n",
      "🗑️ Removing duplicate: ./Spodoptera exigua\\28300.jpg\n",
      "🗑️ Removing duplicate: ./Spodoptera exigua\\28308.jpg\n",
      "🗑️ Removing duplicate: ./Spodoptera exigua\\28310.jpg\n",
      "🗑️ Removing duplicate: ./Spodoptera exigua\\28314.jpg\n",
      "🗑️ Removing duplicate: ./Spodoptera exigua\\28320.jpg\n",
      "🗑️ Removing duplicate: ./Spodoptera exigua\\28321.jpg\n",
      "🗑️ Removing duplicate: ./Spodoptera exigua\\28323.jpg\n",
      "🗑️ Removing duplicate: ./Spodoptera exigua\\28325.jpg\n",
      "🗑️ Removing duplicate: ./Spodoptera exigua\\28326.jpg\n",
      "🗑️ Removing duplicate: ./Spodoptera exigua\\28327.jpg\n",
      "🗑️ Removing duplicate: ./Spodoptera exigua\\28330.jpg\n",
      "🗑️ Removing duplicate: ./Spodoptera exigua\\28333.jpg\n",
      "🗑️ Removing duplicate: ./Spodoptera exigua\\28335.jpg\n",
      "🗑️ Removing duplicate: ./Spodoptera exigua\\28336.jpg\n",
      "🗑️ Removing duplicate: ./Spodoptera exigua\\28337.jpg\n",
      "🗑️ Removing duplicate: ./Spodoptera exigua\\28341.jpg\n",
      "🗑️ Removing duplicate: ./Spodoptera exigua\\28343.jpg\n",
      "🗑️ Removing duplicate: ./Spodoptera exigua\\28344.jpg\n",
      "🗑️ Removing duplicate: ./Spodoptera exigua\\28346.jpg\n",
      "🗑️ Removing duplicate: ./Spodoptera exigua\\28349.jpg\n",
      "🗑️ Removing duplicate: ./Spodoptera exigua\\28353.jpg\n",
      "🗑️ Removing duplicate: ./Spodoptera exigua\\28355.jpg\n",
      "🗑️ Removing duplicate: ./Spodoptera exigua\\28357.jpg\n",
      "🗑️ Removing duplicate: ./Spodoptera exigua\\28363.jpg\n",
      "🗑️ Removing duplicate: ./Spodoptera exigua\\28366.jpg\n",
      "🗑️ Removing duplicate: ./Spodoptera exigua\\28367.jpg\n",
      "🗑️ Removing duplicate: ./Spodoptera exigua\\28373.jpg\n",
      "🗑️ Removing duplicate: ./Spodoptera exigua\\28380.jpg\n",
      "🗑️ Removing duplicate: ./Spodoptera exigua\\28381.jpg\n",
      "🗑️ Removing duplicate: ./Spodoptera exigua\\28382.jpg\n",
      "🗑️ Removing duplicate: ./Spodoptera exigua\\28383.jpg\n",
      "🗑️ Removing duplicate: ./Spodoptera exigua\\28388.jpg\n",
      "🗑️ Removing duplicate: ./Spodoptera exigua\\28389.jpg\n",
      "🗑️ Removing duplicate: ./Spodoptera exigua\\28391.jpg\n",
      "🗑️ Removing duplicate: ./Spodoptera exigua\\28396.jpg\n",
      "🗑️ Removing duplicate: ./Spodoptera exigua\\28397.jpg\n",
      "🗑️ Removing duplicate: ./Spodoptera exigua\\28400.jpg\n",
      "🗑️ Removing duplicate: ./Spodoptera exigua\\28402.jpg\n",
      "🗑️ Removing duplicate: ./Spodoptera exigua\\28404.jpg\n",
      "🗑️ Removing duplicate: ./Spodoptera exigua\\28413.jpg\n",
      "🗑️ Removing duplicate: ./Spodoptera exigua\\28414.jpg\n",
      "🗑️ Removing duplicate: ./Spodoptera exigua\\28417.jpg\n",
      "🗑️ Removing duplicate: ./Spodoptera exigua\\28420.jpg\n",
      "🗑️ Removing duplicate: ./Spodoptera exigua\\28422.jpg\n",
      "🗑️ Removing duplicate: ./Spodoptera exigua\\28424.jpg\n",
      "🗑️ Removing duplicate: ./Spodoptera exigua\\28429.jpg\n",
      "🗑️ Removing duplicate: ./Spodoptera exigua\\28432.jpg\n",
      "🗑️ Removing duplicate: ./Spodoptera exigua\\28438.jpg\n",
      "🗑️ Removing duplicate: ./Spodoptera exigua\\28441.jpg\n",
      "🗑️ Removing duplicate: ./Spodoptera exigua\\28444.jpg\n",
      "🗑️ Removing duplicate: ./Spodoptera exigua\\28448.jpg\n",
      "🗑️ Removing duplicate: ./Spodoptera exigua\\28452.jpg\n",
      "🗑️ Removing duplicate: ./Spodoptera exigua\\28454.jpg\n",
      "🗑️ Removing duplicate: ./Spodoptera exigua\\28455.jpg\n",
      "🗑️ Removing duplicate: ./Spodoptera exigua\\28456.jpg\n",
      "🗑️ Removing duplicate: ./Spodoptera exigua\\28457.jpg\n",
      "🗑️ Removing duplicate: ./Spodoptera exigua\\28458.jpg\n",
      "🗑️ Removing duplicate: ./Spodoptera exigua\\28462.jpg\n",
      "🗑️ Removing duplicate: ./Spodoptera exigua\\28470.jpg\n",
      "🗑️ Removing duplicate: ./Spodoptera exigua\\28471.jpg\n",
      "🗑️ Removing duplicate: ./Spodoptera exigua\\28475.jpg\n",
      "🗑️ Removing duplicate: ./Spodoptera exigua\\28476.jpg\n",
      "🗑️ Removing duplicate: ./Spodoptera exigua\\28482.jpg\n",
      "🗑️ Removing duplicate: ./Spodoptera exigua\\28490.jpg\n",
      "🗑️ Removing duplicate: ./Spodoptera exigua\\28496.jpg\n",
      "🗑️ Removing duplicate: ./Spodoptera exigua\\28497.jpg\n",
      "🗑️ Removing duplicate: ./Spodoptera exigua\\28498.jpg\n",
      "🗑️ Removing duplicate: ./Spodoptera exigua\\28501.jpg\n",
      "🗑️ Removing duplicate: ./Spodoptera exigua\\28506.jpg\n",
      "🗑️ Removing duplicate: ./Spodoptera exigua\\28512.jpg\n",
      "🗑️ Removing duplicate: ./Spodoptera exigua\\28516.jpg\n",
      "🗑️ Removing duplicate: ./Spodoptera exigua\\28518.jpg\n",
      "🗑️ Removing duplicate: ./Spodoptera exigua\\28519.jpg\n",
      "🗑️ Removing duplicate: ./Spodoptera exigua\\28528.jpg\n",
      "🗑️ Removing duplicate: ./Spodoptera exigua\\28531.jpg\n",
      "🗑️ Removing duplicate: ./Spodoptera exigua\\28536.jpg\n",
      "🗑️ Removing duplicate: ./Spodoptera exigua\\28538.jpg\n",
      "🗑️ Removing duplicate: ./Spodoptera exigua\\28541.jpg\n",
      "🗑️ Removing duplicate: ./Spodoptera exigua\\28543.jpg\n",
      "🗑️ Removing duplicate: ./Spodoptera exigua\\28544.jpg\n",
      "🗑️ Removing duplicate: ./Spodoptera exigua\\28547.jpg\n",
      "🗑️ Removing duplicate: ./Spodoptera exigua\\28548.jpg\n",
      "🗑️ Removing duplicate: ./Spodoptera exigua\\28552.jpg\n",
      "🗑️ Removing duplicate: ./Spodoptera exigua\\28556.jpg\n",
      "🗑️ Removing duplicate: ./Spodoptera exigua\\28561.jpg\n",
      "🗑️ Removing duplicate: ./Spodoptera exigua\\28562.jpg\n",
      "🗑️ Removing duplicate: ./Spodoptera exigua\\28570.jpg\n",
      "🗑️ Removing duplicate: ./Spodoptera exigua\\28571.jpg\n",
      "🗑️ Removing duplicate: ./Spodoptera exigua\\28575.jpg\n",
      "🗑️ Removing duplicate: ./Spodoptera exigua\\28577.jpg\n",
      "🗑️ Removing duplicate: ./Spodoptera exigua\\28578.jpg\n",
      "🗑️ Removing duplicate: ./Spodoptera exigua\\28584.jpg\n"
     ]
    },
    {
     "name": "stderr",
     "output_type": "stream",
     "text": [
      "Scanning Spodoptera exigua:  89%|████████▉ | 445/500 [00:00<00:00, 731.74it/s]"
     ]
    },
    {
     "name": "stdout",
     "output_type": "stream",
     "text": [
      "🗑️ Removing duplicate: ./Spodoptera exigua\\28585.jpg\n",
      "🗑️ Removing duplicate: ./Spodoptera exigua\\28586.jpg\n",
      "🗑️ Removing duplicate: ./Spodoptera exigua\\28592.jpg\n",
      "🗑️ Removing duplicate: ./Spodoptera exigua\\28593.jpg\n",
      "🗑️ Removing duplicate: ./Spodoptera exigua\\28594.jpg\n",
      "🗑️ Removing duplicate: ./Spodoptera exigua\\28601.jpg\n",
      "🗑️ Removing duplicate: ./Spodoptera exigua\\28610.jpg\n",
      "🗑️ Removing duplicate: ./Spodoptera exigua\\28613.jpg\n",
      "🗑️ Removing duplicate: ./Spodoptera exigua\\28615.jpg\n",
      "🗑️ Removing duplicate: ./Spodoptera exigua\\28618.jpg\n",
      "🗑️ Removing duplicate: ./Spodoptera exigua\\28626.jpg\n",
      "🗑️ Removing duplicate: ./Spodoptera exigua\\28628.jpg\n",
      "🗑️ Removing duplicate: ./Spodoptera exigua\\28632.jpg\n",
      "🗑️ Removing duplicate: ./Spodoptera exigua\\28639.jpg\n",
      "🗑️ Removing duplicate: ./Spodoptera exigua\\28642.jpg\n",
      "🗑️ Removing duplicate: ./Spodoptera exigua\\28643.jpg\n",
      "🗑️ Removing duplicate: ./Spodoptera exigua\\28651.jpg\n",
      "🗑️ Removing duplicate: ./Spodoptera exigua\\28653.jpg\n",
      "🗑️ Removing duplicate: ./Spodoptera exigua\\28656.jpg\n",
      "🗑️ Removing duplicate: ./Spodoptera exigua\\28658.jpg\n",
      "🗑️ Removing duplicate: ./Spodoptera exigua\\28662.jpg\n",
      "🗑️ Removing duplicate: ./Spodoptera exigua\\28668.jpg\n",
      "🗑️ Removing duplicate: ./Spodoptera exigua\\28669.jpg\n",
      "🗑️ Removing duplicate: ./Spodoptera exigua\\28676.jpg\n",
      "🗑️ Removing duplicate: ./Spodoptera exigua\\28680.jpg\n",
      "🗑️ Removing duplicate: ./Spodoptera exigua\\28689.jpg\n",
      "🗑️ Removing duplicate: ./Spodoptera exigua\\28692.jpg\n",
      "🗑️ Removing duplicate: ./Spodoptera exigua\\28694.jpg\n",
      "🗑️ Removing duplicate: ./Spodoptera exigua\\28698.jpg\n",
      "🗑️ Removing duplicate: ./Spodoptera exigua\\28700.jpg\n",
      "🗑️ Removing duplicate: ./Spodoptera exigua\\28708.jpg\n",
      "🗑️ Removing duplicate: ./Spodoptera exigua\\28710.jpg\n",
      "🗑️ Removing duplicate: ./Spodoptera exigua\\28716.jpg\n",
      "🗑️ Removing duplicate: ./Spodoptera exigua\\28717.jpg\n",
      "🗑️ Removing duplicate: ./Spodoptera exigua\\28719.jpg\n",
      "🗑️ Removing duplicate: ./Spodoptera exigua\\28720.jpg\n",
      "🗑️ Removing duplicate: ./Spodoptera exigua\\28728.jpg\n",
      "🗑️ Removing duplicate: ./Spodoptera exigua\\28730.jpg\n",
      "🗑️ Removing duplicate: ./Spodoptera exigua\\28731.jpg\n",
      "🗑️ Removing duplicate: ./Spodoptera exigua\\28732.jpg\n",
      "🗑️ Removing duplicate: ./Spodoptera exigua\\28734.jpg\n",
      "🗑️ Removing duplicate: ./Spodoptera exigua\\28735.jpg\n",
      "🗑️ Removing duplicate: ./Spodoptera exigua\\28738.jpg\n",
      "🗑️ Removing duplicate: ./Spodoptera exigua\\28739.jpg\n",
      "🗑️ Removing duplicate: ./Spodoptera exigua\\28741.jpg\n",
      "🗑️ Removing duplicate: ./Spodoptera exigua\\28742.jpg\n",
      "🗑️ Removing duplicate: ./Spodoptera exigua\\28744.jpg\n",
      "🗑️ Removing duplicate: ./Spodoptera exigua\\28745.jpg\n",
      "🗑️ Removing duplicate: ./Spodoptera exigua\\28749.jpg\n",
      "🗑️ Removing duplicate: ./Spodoptera exigua\\28752.jpg\n",
      "🗑️ Removing duplicate: ./Spodoptera exigua\\28763.jpg\n",
      "🗑️ Removing duplicate: ./Spodoptera exigua\\28767.jpg\n",
      "🗑️ Removing duplicate: ./Spodoptera exigua\\28768.jpg\n",
      "🗑️ Removing duplicate: ./Spodoptera exigua\\28769.jpg\n",
      "🗑️ Removing duplicate: ./Spodoptera exigua\\28772.jpg\n",
      "🗑️ Removing duplicate: ./Spodoptera exigua\\28773.jpg\n",
      "🗑️ Removing duplicate: ./Spodoptera exigua\\28774.jpg\n",
      "🗑️ Removing duplicate: ./Spodoptera exigua\\28775.jpg\n",
      "🗑️ Removing duplicate: ./Spodoptera exigua\\28776.jpg\n",
      "🗑️ Removing duplicate: ./Spodoptera exigua\\28777.jpg\n",
      "🗑️ Removing duplicate: ./Spodoptera exigua\\28783.jpg\n",
      "🗑️ Removing duplicate: ./Spodoptera exigua\\28787.jpg\n",
      "🗑️ Removing duplicate: ./Spodoptera exigua\\28790.jpg\n",
      "🗑️ Removing duplicate: ./Spodoptera exigua\\28797.jpg\n",
      "🗑️ Removing duplicate: ./Spodoptera exigua\\28798.jpg\n",
      "🗑️ Removing duplicate: ./Spodoptera exigua\\28800.jpg\n",
      "🗑️ Removing duplicate: ./Spodoptera exigua\\28802.jpg\n",
      "🗑️ Removing duplicate: ./Spodoptera exigua\\28804.jpg\n",
      "🗑️ Removing duplicate: ./Spodoptera exigua\\28806.jpg\n",
      "🗑️ Removing duplicate: ./Spodoptera exigua\\28810.jpg\n",
      "🗑️ Removing duplicate: ./Spodoptera exigua\\28813.jpg\n",
      "🗑️ Removing duplicate: ./Spodoptera exigua\\28817.jpg\n",
      "🗑️ Removing duplicate: ./Spodoptera exigua\\28818.jpg\n",
      "🗑️ Removing duplicate: ./Spodoptera exigua\\28820.jpg\n",
      "🗑️ Removing duplicate: ./Spodoptera exigua\\28821.jpg\n",
      "🗑️ Removing duplicate: ./Spodoptera exigua\\28822.jpg\n",
      "🗑️ Removing duplicate: ./Spodoptera exigua\\28829.jpg\n",
      "🗑️ Removing duplicate: ./Spodoptera exigua\\28833.jpg\n",
      "🗑️ Removing duplicate: ./Spodoptera exigua\\28836.jpg\n",
      "🗑️ Removing duplicate: ./Spodoptera exigua\\28838.jpg\n",
      "🗑️ Removing duplicate: ./Spodoptera exigua\\28839.jpg\n",
      "🗑️ Removing duplicate: ./Spodoptera exigua\\28842.jpg\n",
      "🗑️ Removing duplicate: ./Spodoptera exigua\\28845.jpg\n",
      "🗑️ Removing duplicate: ./Spodoptera exigua\\28850.jpg\n",
      "🗑️ Removing duplicate: ./Spodoptera exigua\\28853.jpg\n",
      "🗑️ Removing duplicate: ./Spodoptera exigua\\28857.jpg\n",
      "🗑️ Removing duplicate: ./Spodoptera exigua\\28861.jpg\n",
      "🗑️ Removing duplicate: ./Spodoptera exigua\\28863.jpg\n",
      "🗑️ Removing duplicate: ./Spodoptera exigua\\28866.jpg\n",
      "🗑️ Removing duplicate: ./Spodoptera exigua\\28872.jpg\n",
      "🗑️ Removing duplicate: ./Spodoptera exigua\\28873.jpg\n",
      "🗑️ Removing duplicate: ./Spodoptera exigua\\28880.jpg\n",
      "🗑️ Removing duplicate: ./Spodoptera exigua\\28881.jpg\n",
      "🗑️ Removing duplicate: ./Spodoptera exigua\\28884.jpg\n",
      "🗑️ Removing duplicate: ./Spodoptera exigua\\28890.jpg\n",
      "🗑️ Removing duplicate: ./Spodoptera exigua\\28897.jpg\n",
      "🗑️ Removing duplicate: ./Spodoptera exigua\\28898.jpg\n",
      "🗑️ Removing duplicate: ./Spodoptera exigua\\28901.jpg\n",
      "🗑️ Removing duplicate: ./Spodoptera exigua\\28902.jpg\n",
      "🗑️ Removing duplicate: ./Spodoptera exigua\\28904.jpg\n",
      "🗑️ Removing duplicate: ./Spodoptera exigua\\28907.jpg\n",
      "🗑️ Removing duplicate: ./Spodoptera exigua\\28909.jpg\n",
      "🗑️ Removing duplicate: ./Spodoptera exigua\\28915.jpg\n",
      "🗑️ Removing duplicate: ./Spodoptera exigua\\28917.jpg\n",
      "🗑️ Removing duplicate: ./Spodoptera exigua\\28932.jpg\n",
      "🗑️ Removing duplicate: ./Spodoptera exigua\\28933.jpg\n",
      "🗑️ Removing duplicate: ./Spodoptera exigua\\28936.jpg\n",
      "🗑️ Removing duplicate: ./Spodoptera exigua\\28939.jpg\n",
      "🗑️ Removing duplicate: ./Spodoptera exigua\\28940.jpg\n",
      "🗑️ Removing duplicate: ./Spodoptera exigua\\28947.jpg\n",
      "🗑️ Removing duplicate: ./Spodoptera exigua\\28950.jpg\n",
      "🗑️ Removing duplicate: ./Spodoptera exigua\\28951.jpg\n",
      "🗑️ Removing duplicate: ./Spodoptera exigua\\28953.jpg\n",
      "🗑️ Removing duplicate: ./Spodoptera exigua\\28955.jpg\n",
      "🗑️ Removing duplicate: ./Spodoptera exigua\\28957.jpg\n",
      "🗑️ Removing duplicate: ./Spodoptera exigua\\28963.jpg\n",
      "🗑️ Removing duplicate: ./Spodoptera exigua\\28964.jpg\n",
      "🗑️ Removing duplicate: ./Spodoptera exigua\\28972.jpg\n",
      "🗑️ Removing duplicate: ./Spodoptera exigua\\28978.jpg\n",
      "🗑️ Removing duplicate: ./Spodoptera exigua\\28979.jpg\n",
      "🗑️ Removing duplicate: ./Spodoptera exigua\\28980.jpg\n",
      "🗑️ Removing duplicate: ./Spodoptera exigua\\28981.jpg\n",
      "🗑️ Removing duplicate: ./Spodoptera exigua\\28982.jpg\n",
      "🗑️ Removing duplicate: ./Spodoptera exigua\\28983.jpg\n",
      "🗑️ Removing duplicate: ./Spodoptera exigua\\28985.jpg\n",
      "🗑️ Removing duplicate: ./Spodoptera exigua\\28987.jpg\n",
      "🗑️ Removing duplicate: ./Spodoptera exigua\\28990.jpg\n",
      "🗑️ Removing duplicate: ./Spodoptera exigua\\28995.jpg\n",
      "🗑️ Removing duplicate: ./Spodoptera exigua\\28996.jpg\n",
      "🗑️ Removing duplicate: ./Spodoptera exigua\\29004.jpg\n",
      "🗑️ Removing duplicate: ./Spodoptera exigua\\29008.jpg\n",
      "🗑️ Removing duplicate: ./Spodoptera exigua\\29014.jpg\n",
      "🗑️ Removing duplicate: ./Spodoptera exigua\\29017.jpg\n",
      "🗑️ Removing duplicate: ./Spodoptera exigua\\29018.jpg\n",
      "🗑️ Removing duplicate: ./Spodoptera exigua\\29019.jpg\n",
      "🗑️ Removing duplicate: ./Spodoptera exigua\\29023.jpg\n",
      "🗑️ Removing duplicate: ./Spodoptera exigua\\29025.jpg\n",
      "🗑️ Removing duplicate: ./Spodoptera exigua\\29026.jpg\n",
      "🗑️ Removing duplicate: ./Spodoptera exigua\\29030.jpg\n",
      "🗑️ Removing duplicate: ./Spodoptera exigua\\29031.jpg\n",
      "🗑️ Removing duplicate: ./Spodoptera exigua\\29035.jpg\n",
      "🗑️ Removing duplicate: ./Spodoptera exigua\\29038.jpg\n",
      "🗑️ Removing duplicate: ./Spodoptera exigua\\29041.jpg\n",
      "🗑️ Removing duplicate: ./Spodoptera exigua\\29045.jpg\n",
      "🗑️ Removing duplicate: ./Spodoptera exigua\\29048.jpg\n",
      "🗑️ Removing duplicate: ./Spodoptera exigua\\29054.jpg\n",
      "🗑️ Removing duplicate: ./Spodoptera exigua\\29056.jpg\n",
      "🗑️ Removing duplicate: ./Spodoptera exigua\\29060.jpg\n",
      "🗑️ Removing duplicate: ./Spodoptera exigua\\29069.jpg\n",
      "🗑️ Removing duplicate: ./Spodoptera exigua\\29070.jpg\n"
     ]
    },
    {
     "name": "stderr",
     "output_type": "stream",
     "text": [
      "Scanning Spodoptera exigua: 100%|██████████| 500/500 [00:00<00:00, 719.48it/s]\n"
     ]
    },
    {
     "name": "stdout",
     "output_type": "stream",
     "text": [
      "🗑️ Removing duplicate: ./Spodoptera exigua\\29071.jpg\n",
      "🗑️ Removing duplicate: ./Spodoptera exigua\\29073.jpg\n",
      "🗑️ Removing duplicate: ./Spodoptera exigua\\29074.jpg\n",
      "🗑️ Removing duplicate: ./Spodoptera exigua\\29076.jpg\n",
      "🗑️ Removing duplicate: ./Spodoptera exigua\\29081.jpg\n",
      "🗑️ Removing duplicate: ./Spodoptera exigua\\29087.jpg\n",
      "🗑️ Removing duplicate: ./Spodoptera exigua\\29091.jpg\n",
      "🗑️ Removing duplicate: ./Spodoptera exigua\\29094.jpg\n",
      "🗑️ Removing duplicate: ./Spodoptera exigua\\29100.jpg\n",
      "🗑️ Removing duplicate: ./Spodoptera exigua\\29103.jpg\n",
      "🗑️ Removing duplicate: ./Spodoptera exigua\\29104.jpg\n",
      "🗑️ Removing duplicate: ./Spodoptera exigua\\29108.jpg\n",
      "🗑️ Removing duplicate: ./Spodoptera exigua\\29110.jpg\n",
      "🗑️ Removing duplicate: ./Spodoptera exigua\\29111.jpg\n",
      "🗑️ Removing duplicate: ./Spodoptera exigua\\29114.jpg\n",
      "🗑️ Removing duplicate: ./Spodoptera exigua\\29115.jpg\n",
      "🗑️ Removing duplicate: ./Spodoptera exigua\\29118.jpg\n",
      "🗑️ Removing duplicate: ./Spodoptera exigua\\29122.jpg\n",
      "🗑️ Removing duplicate: ./Spodoptera exigua\\29127.jpg\n",
      "🗑️ Removing duplicate: ./Spodoptera exigua\\29128.jpg\n",
      "🗑️ Removing duplicate: ./Spodoptera exigua\\29131.jpg\n",
      "🗑️ Removing duplicate: ./Spodoptera exigua\\29132.jpg\n",
      "🗑️ Removing duplicate: ./Spodoptera exigua\\29136.jpg\n",
      "🗑️ Removing duplicate: ./Spodoptera exigua\\29137.jpg\n",
      "🗑️ Removing duplicate: ./Spodoptera exigua\\29139.jpg\n",
      "🗑️ Removing duplicate: ./Spodoptera exigua\\29147.jpg\n",
      "🗑️ Removing duplicate: ./Spodoptera exigua\\29148.jpg\n",
      "🗑️ Removing duplicate: ./Spodoptera exigua\\29149.jpg\n",
      "🗑️ Removing duplicate: ./Spodoptera exigua\\29151.jpg\n",
      "🗑️ Removing duplicate: ./Spodoptera exigua\\29152.jpg\n",
      "🗑️ Removing duplicate: ./Spodoptera exigua\\29154.jpg\n",
      "🗑️ Removing duplicate: ./Spodoptera exigua\\29161.jpg\n",
      "🗑️ Removing duplicate: ./Spodoptera exigua\\29162.jpg\n",
      "🗑️ Removing duplicate: ./Spodoptera exigua\\29165.jpg\n",
      "🗑️ Removing duplicate: ./Spodoptera exigua\\29171.jpg\n",
      "🗑️ Removing duplicate: ./Spodoptera exigua\\29172.jpg\n",
      "🗑️ Removing duplicate: ./Spodoptera exigua\\29176.jpg\n",
      "🗑️ Removing duplicate: ./Spodoptera exigua\\29178.jpg\n",
      "🗑️ Removing duplicate: ./Spodoptera exigua\\29183.jpg\n",
      "🗑️ Removing duplicate: ./Spodoptera exigua\\29189.jpg\n",
      "🗑️ Removing duplicate: ./Spodoptera exigua\\29190.jpg\n",
      "🗑️ Removing duplicate: ./Spodoptera exigua\\29193.jpg\n",
      "🗑️ Removing duplicate: ./Spodoptera exigua\\29197.jpg\n",
      "🗑️ Removing duplicate: ./Spodoptera exigua\\29199.jpg\n",
      "🗑️ Removing duplicate: ./Spodoptera exigua\\29200.jpg\n",
      "🗑️ Removing duplicate: ./Spodoptera exigua\\Image_16.jpg\n",
      "🗑️ Removing duplicate: ./Spodoptera exigua\\Image_36.jpg\n",
      "🗑️ Removing duplicate: ./Spodoptera exigua\\Image_38.jpg\n",
      "🗑️ Removing duplicate: ./Spodoptera exigua\\Image_39.jpg\n",
      "🗑️ Removing duplicate: ./Spodoptera exigua\\Image_40.jpg\n",
      "🗑️ Removing duplicate: ./Spodoptera exigua\\Image_44.jpg\n",
      "🗑️ Removing duplicate: ./Spodoptera exigua\\Image_46.jpg\n",
      "🗑️ Removing duplicate: ./Spodoptera exigua\\Image_54.jpg\n",
      "🗑️ Removing duplicate: ./Spodoptera exigua\\Image_55.jpg\n",
      "🗑️ Removing duplicate: ./Spodoptera exigua\\Image_58.jpg\n",
      "Checking duplicates in: Spodoptera litura\n"
     ]
    },
    {
     "name": "stderr",
     "output_type": "stream",
     "text": [
      "Scanning Spodoptera litura: 100%|██████████| 500/500 [00:00<00:00, 735.48it/s]\n"
     ]
    },
    {
     "name": "stdout",
     "output_type": "stream",
     "text": [
      "Checking duplicates in: Tetranychus urticae\n"
     ]
    },
    {
     "name": "stderr",
     "output_type": "stream",
     "text": [
      "Scanning Tetranychus urticae: 100%|██████████| 476/476 [00:00<00:00, 1051.77it/s]\n"
     ]
    },
    {
     "name": "stdout",
     "output_type": "stream",
     "text": [
      "🗑️ Removing duplicate: ./Tetranychus urticae\\Image_13.jpg\n",
      "🗑️ Removing duplicate: ./Tetranychus urticae\\Image_14.jpg\n",
      "🗑️ Removing duplicate: ./Tetranychus urticae\\Image_19.jpg\n",
      "🗑️ Removing duplicate: ./Tetranychus urticae\\Image_21.jpg\n",
      "🗑️ Removing duplicate: ./Tetranychus urticae\\Image_35.jpg\n",
      "🗑️ Removing duplicate: ./Tetranychus urticae\\Image_49.jpg\n",
      "🗑️ Removing duplicate: ./Tetranychus urticae\\Image_52.jpg\n",
      "🗑️ Removing duplicate: ./Tetranychus urticae\\Image_6.jpg\n",
      "🗑️ Removing duplicate: ./Tetranychus urticae\\Image_68.jpg\n",
      "🗑️ Removing duplicate: ./Tetranychus urticae\\Image_8.jpg\n",
      "🗑️ Removing duplicate: ./Tetranychus urticae\\Image_82.jpg\n",
      "🗑️ Removing duplicate: ./Tetranychus urticae\\oo000001.jpg\n",
      "🗑️ Removing duplicate: ./Tetranychus urticae\\oo000003.jpg\n",
      "🗑️ Removing duplicate: ./Tetranychus urticae\\oo000005.jpg\n",
      "🗑️ Removing duplicate: ./Tetranychus urticae\\oo000006.jpg\n",
      "🗑️ Removing duplicate: ./Tetranychus urticae\\oo000008.jpg\n",
      "🗑️ Removing duplicate: ./Tetranychus urticae\\oo000010.jpg\n",
      "🗑️ Removing duplicate: ./Tetranychus urticae\\oo000011.jpg\n",
      "🗑️ Removing duplicate: ./Tetranychus urticae\\oo000014.jpg\n",
      "🗑️ Removing duplicate: ./Tetranychus urticae\\oo000015.jpg\n",
      "🗑️ Removing duplicate: ./Tetranychus urticae\\oo000016.jpg\n",
      "🗑️ Removing duplicate: ./Tetranychus urticae\\oo000019.jpg\n",
      "🗑️ Removing duplicate: ./Tetranychus urticae\\oo000021.jpg\n",
      "🗑️ Removing duplicate: ./Tetranychus urticae\\oo000026.jpg\n",
      "🗑️ Removing duplicate: ./Tetranychus urticae\\oo000030.jpg\n",
      "🗑️ Removing duplicate: ./Tetranychus urticae\\oo000031.jpg\n",
      "🗑️ Removing duplicate: ./Tetranychus urticae\\oo000032.jpg\n",
      "🗑️ Removing duplicate: ./Tetranychus urticae\\oo000033.jpg\n",
      "🗑️ Removing duplicate: ./Tetranychus urticae\\oo000034.jpg\n",
      "🗑️ Removing duplicate: ./Tetranychus urticae\\oo000036.jpg\n",
      "🗑️ Removing duplicate: ./Tetranychus urticae\\oo000037.jpg\n",
      "🗑️ Removing duplicate: ./Tetranychus urticae\\oo000039.jpg\n",
      "🗑️ Removing duplicate: ./Tetranychus urticae\\oo000041.jpg\n",
      "🗑️ Removing duplicate: ./Tetranychus urticae\\oo000044.jpg\n",
      "🗑️ Removing duplicate: ./Tetranychus urticae\\oo000051.jpg\n",
      "🗑️ Removing duplicate: ./Tetranychus urticae\\oo000053.jpg\n",
      "Checking duplicates in: Thrips tabaci\n"
     ]
    },
    {
     "name": "stderr",
     "output_type": "stream",
     "text": [
      "Scanning Thrips tabaci: 100%|██████████| 500/500 [00:00<00:00, 1063.72it/s]\n"
     ]
    },
    {
     "name": "stdout",
     "output_type": "stream",
     "text": [
      "Checking duplicates in: weevil\n"
     ]
    },
    {
     "name": "stderr",
     "output_type": "stream",
     "text": [
      "Scanning weevil:  25%|██▌       | 127/500 [00:00<00:00, 1264.03it/s]"
     ]
    },
    {
     "name": "stdout",
     "output_type": "stream",
     "text": [
      "🗑️ Removing duplicate: ./weevil\\Weevil (111).jpg\n",
      "🗑️ Removing duplicate: ./weevil\\Weevil (179).jpg\n",
      "🗑️ Removing duplicate: ./weevil\\Weevil (199).jpg\n"
     ]
    },
    {
     "name": "stderr",
     "output_type": "stream",
     "text": [
      "Scanning weevil: 100%|██████████| 500/500 [00:00<00:00, 1319.23it/s]"
     ]
    },
    {
     "name": "stdout",
     "output_type": "stream",
     "text": [
      "\n",
      "✅ Duplicate images removed successfully!\n"
     ]
    },
    {
     "name": "stderr",
     "output_type": "stream",
     "text": [
      "\n"
     ]
    }
   ],
   "source": [
    "import os\n",
    "import cv2\n",
    "import numpy as np\n",
    "import hashlib\n",
    "from tqdm import tqdm\n",
    "\n",
    "\n",
    "# Dictionary to store image hashes\n",
    "image_hashes = {}\n",
    "\n",
    "def compute_image_hash(image_path):\n",
    "    \"\"\"Computes a hash for an image using OpenCV and hashlib.\"\"\"\n",
    "    try:\n",
    "        img = cv2.imread(image_path, cv2.IMREAD_GRAYSCALE)  # Read as grayscale\n",
    "        img = cv2.resize(img, (64, 64))  # Resize for hashing consistency\n",
    "        img_hash = hashlib.md5(img.tobytes()).hexdigest()  # Compute hash\n",
    "        return img_hash\n",
    "    except Exception as e:\n",
    "        print(f\"❌ Error processing {image_path}: {e}\")\n",
    "        return None\n",
    "\n",
    "# Scan and remove duplicate images\n",
    "for folder in os.listdir(root_dir):\n",
    "    folder_path = os.path.join(root_dir, folder)\n",
    "    \n",
    "    if os.path.isdir(folder_path):  # Ensure it's a folder\n",
    "        print(f\"Checking duplicates in: {folder}\")\n",
    "\n",
    "        for filename in tqdm(os.listdir(folder_path), desc=f\"Scanning {folder}\"):\n",
    "            if filename.lower().endswith(\".jpg\"):\n",
    "                img_path = os.path.join(folder_path, filename)\n",
    "                img_hash = compute_image_hash(img_path)\n",
    "\n",
    "                if img_hash:\n",
    "                    if img_hash in image_hashes:\n",
    "                        print(f\"🗑️ Removing duplicate: {img_path}\")\n",
    "                        os.remove(img_path)  # Delete duplicate\n",
    "                    else:\n",
    "                        image_hashes[img_hash] = img_path  # Store unique image hash\n",
    "\n",
    "print(\"\\n✅ Duplicate images removed successfully!\")\n"
   ]
  },
  {
   "cell_type": "code",
   "execution_count": 14,
   "id": "a235fc2d",
   "metadata": {},
   "outputs": [
    {
     "name": "stdout",
     "output_type": "stream",
     "text": [
      "📌 Total images in dataset: 5471\n"
     ]
    },
    {
     "data": {
      "text/html": [
       "<div>\n",
       "<style scoped>\n",
       "    .dataframe tbody tr th:only-of-type {\n",
       "        vertical-align: middle;\n",
       "    }\n",
       "\n",
       "    .dataframe tbody tr th {\n",
       "        vertical-align: top;\n",
       "    }\n",
       "\n",
       "    .dataframe thead th {\n",
       "        text-align: right;\n",
       "    }\n",
       "</style>\n",
       "<table border=\"1\" class=\"dataframe\">\n",
       "  <thead>\n",
       "    <tr style=\"text-align: right;\">\n",
       "      <th></th>\n",
       "      <th>Class</th>\n",
       "      <th>Image Count</th>\n",
       "    </tr>\n",
       "  </thead>\n",
       "  <tbody>\n",
       "    <tr>\n",
       "      <th>0</th>\n",
       "      <td>.dist</td>\n",
       "      <td>0</td>\n",
       "    </tr>\n",
       "    <tr>\n",
       "      <th>1</th>\n",
       "      <td>.qodo</td>\n",
       "      <td>0</td>\n",
       "    </tr>\n",
       "    <tr>\n",
       "      <th>2</th>\n",
       "      <td>aphids</td>\n",
       "      <td>389</td>\n",
       "    </tr>\n",
       "    <tr>\n",
       "      <th>3</th>\n",
       "      <td>aphis craccivora</td>\n",
       "      <td>411</td>\n",
       "    </tr>\n",
       "    <tr>\n",
       "      <th>4</th>\n",
       "      <td>beet armyworm</td>\n",
       "      <td>455</td>\n",
       "    </tr>\n",
       "    <tr>\n",
       "      <th>5</th>\n",
       "      <td>catterpillar</td>\n",
       "      <td>474</td>\n",
       "    </tr>\n",
       "    <tr>\n",
       "      <th>6</th>\n",
       "      <td>Empoasca fabae</td>\n",
       "      <td>463</td>\n",
       "    </tr>\n",
       "    <tr>\n",
       "      <th>7</th>\n",
       "      <td>grasshopper</td>\n",
       "      <td>462</td>\n",
       "    </tr>\n",
       "    <tr>\n",
       "      <th>8</th>\n",
       "      <td>Helicoverpa armigera</td>\n",
       "      <td>310</td>\n",
       "    </tr>\n",
       "    <tr>\n",
       "      <th>9</th>\n",
       "      <td>mites</td>\n",
       "      <td>364</td>\n",
       "    </tr>\n",
       "    <tr>\n",
       "      <th>10</th>\n",
       "      <td>Schistocerca gregaria</td>\n",
       "      <td>478</td>\n",
       "    </tr>\n",
       "    <tr>\n",
       "      <th>11</th>\n",
       "      <td>Spodoptera litura</td>\n",
       "      <td>449</td>\n",
       "    </tr>\n",
       "    <tr>\n",
       "      <th>12</th>\n",
       "      <td>Tetranychus urticae</td>\n",
       "      <td>389</td>\n",
       "    </tr>\n",
       "    <tr>\n",
       "      <th>13</th>\n",
       "      <td>Thrips tabaci</td>\n",
       "      <td>357</td>\n",
       "    </tr>\n",
       "    <tr>\n",
       "      <th>14</th>\n",
       "      <td>weevil</td>\n",
       "      <td>470</td>\n",
       "    </tr>\n",
       "  </tbody>\n",
       "</table>\n",
       "</div>"
      ],
      "text/plain": [
       "                    Class  Image Count\n",
       "0                   .dist            0\n",
       "1                   .qodo            0\n",
       "2                  aphids          389\n",
       "3        aphis craccivora          411\n",
       "4           beet armyworm          455\n",
       "5            catterpillar          474\n",
       "6          Empoasca fabae          463\n",
       "7             grasshopper          462\n",
       "8    Helicoverpa armigera          310\n",
       "9                   mites          364\n",
       "10  Schistocerca gregaria          478\n",
       "11      Spodoptera litura          449\n",
       "12    Tetranychus urticae          389\n",
       "13          Thrips tabaci          357\n",
       "14                 weevil          470"
      ]
     },
     "execution_count": 14,
     "metadata": {},
     "output_type": "execute_result"
    }
   ],
   "source": [
    "import os\n",
    "import numpy as np\n",
    "import pandas as pd\n",
    "from glob import glob\n",
    "\n",
    "VALID_EXTENSIONS = {\".jpg\"}  # Valid image formats\n",
    "\n",
    "# Dictionary to store image counts per class\n",
    "image_counts = {}\n",
    "\n",
    "# Loop through each class folder\n",
    "for pest_class in os.listdir(root_dir):\n",
    "    class_dir = os.path.join(root_dir, pest_class)\n",
    "    if os.path.isdir(class_dir):  # Ensure it's a directory\n",
    "        num_images = sum(\n",
    "            len(glob(os.path.join(class_dir, f\"*{ext}\"))) for ext in VALID_EXTENSIONS\n",
    "        )\n",
    "        image_counts[pest_class] = num_images\n",
    "\n",
    "# Convert to DataFrame for better visualization\n",
    "df_counts = pd.DataFrame(image_counts.items(), columns=[\"Class\", \"Image Count\"])\n",
    "\n",
    "# Display total images in the dataset\n",
    "total_images = df_counts[\"Image Count\"].sum()\n",
    "print(f\"📌 Total images in dataset: {total_images}\")\n",
    "df_counts"
   ]
  },
  {
   "cell_type": "code",
   "execution_count": 15,
   "id": "45fc5397",
   "metadata": {},
   "outputs": [
    {
     "name": "stdout",
     "output_type": "stream",
     "text": [
      "Requirement already satisfied: Pillow in c:\\users\\bmd tech\\anaconda3\\lib\\site-packages (10.4.0)\n",
      "Requirement already satisfied: tqdm in c:\\users\\bmd tech\\anaconda3\\lib\\site-packages (4.66.5)\n",
      "Requirement already satisfied: colorama in c:\\users\\bmd tech\\anaconda3\\lib\\site-packages (from tqdm) (0.4.6)\n",
      "Note: you may need to restart the kernel to use updated packages.\n"
     ]
    }
   ],
   "source": [
    "%pip install Pillow tqdm"
   ]
  },
  {
   "cell_type": "code",
   "execution_count": 16,
   "id": "643977c4",
   "metadata": {},
   "outputs": [
    {
     "name": "stdout",
     "output_type": "stream",
     "text": [
      "Helicoverpa armigera: 310 ➡ 450\n"
     ]
    },
    {
     "name": "stderr",
     "output_type": "stream",
     "text": [
      "Augmenting Helicoverpa armigera: 100%|██████████| 140/140 [00:01<00:00, 113.31it/s]\n"
     ]
    },
    {
     "name": "stdout",
     "output_type": "stream",
     "text": [
      "Thrips tabaci: 357 ➡ 450\n"
     ]
    },
    {
     "name": "stderr",
     "output_type": "stream",
     "text": [
      "Augmenting Thrips tabaci: 100%|██████████| 93/93 [00:00<00:00, 136.71it/s]\n"
     ]
    },
    {
     "name": "stdout",
     "output_type": "stream",
     "text": [
      "mites: 364 ➡ 450\n"
     ]
    },
    {
     "name": "stderr",
     "output_type": "stream",
     "text": [
      "Augmenting mites: 100%|██████████| 86/86 [00:00<00:00, 133.39it/s]\n"
     ]
    }
   ],
   "source": [
    "import os\n",
    "import random\n",
    "from PIL import Image, ImageEnhance, ImageOps\n",
    "from tqdm import tqdm\n",
    "\n",
    "# Settings\n",
    "target_classes = {\n",
    "    \"Helicoverpa armigera\": 450,\n",
    "    \"Thrips tabaci\": 450,\n",
    "    \"mites\": 450\n",
    "}\n",
    "base_dir = \"./\" \n",
    "\n",
    "def augment_image(image):\n",
    "    \"\"\"Apply random augmentation.\"\"\"\n",
    "    operations = [\n",
    "        lambda x: x.rotate(random.randint(-25, 25)),\n",
    "        lambda x: ImageOps.mirror(x),\n",
    "        lambda x: ImageOps.flip(x),\n",
    "        lambda x: ImageEnhance.Brightness(x).enhance(random.uniform(0.7, 1.3)),\n",
    "        lambda x: ImageEnhance.Contrast(x).enhance(random.uniform(0.7, 1.3)),\n",
    "        lambda x: ImageEnhance.Color(x).enhance(random.uniform(0.7, 1.3)),\n",
    "    ]\n",
    "    op = random.choice(operations)\n",
    "    return op(image)\n",
    "\n",
    "for class_name, target_count in target_classes.items():\n",
    "    class_dir = os.path.join(base_dir, class_name)\n",
    "    images = [f for f in os.listdir(class_dir) if f.lower().endswith(('.jpg', '.png', '.jpeg'))]\n",
    "    current_count = len(images)\n",
    "    print(f\"{class_name}: {current_count} ➡ {target_count}\")\n",
    "\n",
    "    if current_count >= target_count:\n",
    "        continue\n",
    "\n",
    "    augment_needed = target_count - current_count\n",
    "    for i in tqdm(range(augment_needed), desc=f\"Augmenting {class_name}\"):\n",
    "        img_name = random.choice(images)\n",
    "        img_path = os.path.join(class_dir, img_name)\n",
    "\n",
    "        try:\n",
    "            img = Image.open(img_path)\n",
    "            img = augment_image(img)\n",
    "            new_img_name = f\"aug_{i}_{img_name}\"\n",
    "            img.save(os.path.join(class_dir, new_img_name))\n",
    "        except Exception as e:\n",
    "            print(f\"❌ Error processing {img_name}: {e}\")\n"
   ]
  },
  {
   "cell_type": "code",
   "execution_count": 17,
   "id": "411ae94d",
   "metadata": {},
   "outputs": [
    {
     "name": "stdout",
     "output_type": "stream",
     "text": [
      "📌 Total images in dataset: 5790\n"
     ]
    },
    {
     "data": {
      "text/html": [
       "<div>\n",
       "<style scoped>\n",
       "    .dataframe tbody tr th:only-of-type {\n",
       "        vertical-align: middle;\n",
       "    }\n",
       "\n",
       "    .dataframe tbody tr th {\n",
       "        vertical-align: top;\n",
       "    }\n",
       "\n",
       "    .dataframe thead th {\n",
       "        text-align: right;\n",
       "    }\n",
       "</style>\n",
       "<table border=\"1\" class=\"dataframe\">\n",
       "  <thead>\n",
       "    <tr style=\"text-align: right;\">\n",
       "      <th></th>\n",
       "      <th>Class</th>\n",
       "      <th>Image Count</th>\n",
       "    </tr>\n",
       "  </thead>\n",
       "  <tbody>\n",
       "    <tr>\n",
       "      <th>0</th>\n",
       "      <td>.dist</td>\n",
       "      <td>0</td>\n",
       "    </tr>\n",
       "    <tr>\n",
       "      <th>1</th>\n",
       "      <td>.qodo</td>\n",
       "      <td>0</td>\n",
       "    </tr>\n",
       "    <tr>\n",
       "      <th>2</th>\n",
       "      <td>aphids</td>\n",
       "      <td>389</td>\n",
       "    </tr>\n",
       "    <tr>\n",
       "      <th>3</th>\n",
       "      <td>aphis craccivora</td>\n",
       "      <td>411</td>\n",
       "    </tr>\n",
       "    <tr>\n",
       "      <th>4</th>\n",
       "      <td>beet armyworm</td>\n",
       "      <td>455</td>\n",
       "    </tr>\n",
       "    <tr>\n",
       "      <th>5</th>\n",
       "      <td>catterpillar</td>\n",
       "      <td>474</td>\n",
       "    </tr>\n",
       "    <tr>\n",
       "      <th>6</th>\n",
       "      <td>Empoasca fabae</td>\n",
       "      <td>463</td>\n",
       "    </tr>\n",
       "    <tr>\n",
       "      <th>7</th>\n",
       "      <td>grasshopper</td>\n",
       "      <td>462</td>\n",
       "    </tr>\n",
       "    <tr>\n",
       "      <th>8</th>\n",
       "      <td>Helicoverpa armigera</td>\n",
       "      <td>450</td>\n",
       "    </tr>\n",
       "    <tr>\n",
       "      <th>9</th>\n",
       "      <td>mites</td>\n",
       "      <td>450</td>\n",
       "    </tr>\n",
       "    <tr>\n",
       "      <th>10</th>\n",
       "      <td>Schistocerca gregaria</td>\n",
       "      <td>478</td>\n",
       "    </tr>\n",
       "    <tr>\n",
       "      <th>11</th>\n",
       "      <td>Spodoptera litura</td>\n",
       "      <td>449</td>\n",
       "    </tr>\n",
       "    <tr>\n",
       "      <th>12</th>\n",
       "      <td>Tetranychus urticae</td>\n",
       "      <td>389</td>\n",
       "    </tr>\n",
       "    <tr>\n",
       "      <th>13</th>\n",
       "      <td>Thrips tabaci</td>\n",
       "      <td>450</td>\n",
       "    </tr>\n",
       "    <tr>\n",
       "      <th>14</th>\n",
       "      <td>weevil</td>\n",
       "      <td>470</td>\n",
       "    </tr>\n",
       "  </tbody>\n",
       "</table>\n",
       "</div>"
      ],
      "text/plain": [
       "                    Class  Image Count\n",
       "0                   .dist            0\n",
       "1                   .qodo            0\n",
       "2                  aphids          389\n",
       "3        aphis craccivora          411\n",
       "4           beet armyworm          455\n",
       "5            catterpillar          474\n",
       "6          Empoasca fabae          463\n",
       "7             grasshopper          462\n",
       "8    Helicoverpa armigera          450\n",
       "9                   mites          450\n",
       "10  Schistocerca gregaria          478\n",
       "11      Spodoptera litura          449\n",
       "12    Tetranychus urticae          389\n",
       "13          Thrips tabaci          450\n",
       "14                 weevil          470"
      ]
     },
     "execution_count": 17,
     "metadata": {},
     "output_type": "execute_result"
    }
   ],
   "source": [
    "import os\n",
    "import numpy as np\n",
    "import pandas as pd\n",
    "from glob import glob\n",
    "\n",
    "VALID_EXTENSIONS = {\".jpg\"}  # Valid image formats\n",
    "\n",
    "# Dictionary to store image counts per class\n",
    "image_counts = {}\n",
    "\n",
    "# Loop through each class folder\n",
    "for pest_class in os.listdir(root_dir):\n",
    "    class_dir = os.path.join(root_dir, pest_class)\n",
    "    if os.path.isdir(class_dir):  # Ensure it's a directory\n",
    "        num_images = sum(\n",
    "            len(glob(os.path.join(class_dir, f\"*{ext}\"))) for ext in VALID_EXTENSIONS\n",
    "        )\n",
    "        image_counts[pest_class] = num_images\n",
    "\n",
    "# Convert to DataFrame for better visualization\n",
    "df_counts = pd.DataFrame(image_counts.items(), columns=[\"Class\", \"Image Count\"])\n",
    "\n",
    "# Display total images in the dataset\n",
    "total_images = df_counts[\"Image Count\"].sum()\n",
    "print(f\"📌 Total images in dataset: {total_images}\")\n",
    "df_counts"
   ]
  }
 ],
 "metadata": {
  "kernelspec": {
   "display_name": "base",
   "language": "python",
   "name": "python3"
  },
  "language_info": {
   "codemirror_mode": {
    "name": "ipython",
    "version": 3
   },
   "file_extension": ".py",
   "mimetype": "text/x-python",
   "name": "python",
   "nbconvert_exporter": "python",
   "pygments_lexer": "ipython3",
   "version": "3.12.7"
  }
 },
 "nbformat": 4,
 "nbformat_minor": 5
}
